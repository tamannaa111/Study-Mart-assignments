{
 "cells": [
  {
   "cell_type": "code",
   "execution_count": 4,
   "id": "1a29a61a-0ac5-4402-800d-c0e6b35bc8bc",
   "metadata": {},
   "outputs": [
    {
     "name": "stdin",
     "output_type": "stream",
     "text": [
      "Please enter value for a:  444\n",
      "Please enter value for b:  445\n"
     ]
    },
    {
     "name": "stdout",
     "output_type": "stream",
     "text": [
      "445\n",
      "444\n"
     ]
    }
   ],
   "source": [
    "#PROBLEM-1\n",
    "#swap the values of two variables without using a temporary variable.\n",
    "a = int( input(\"Please enter value for a: \"))\n",
    "b =int( input(\"Please enter value for b: \")) \n",
    "a = a + b \n",
    "b = a - b \n",
    "a = a - b \n",
    "print(a) \n",
    "#Prprint(b) "
   ]
  },
  {
   "cell_type": "code",
   "execution_count": 8,
   "id": "0f7eb6c1-daed-497b-93c0-62e3795807d0",
   "metadata": {},
   "outputs": [
    {
     "name": "stdin",
     "output_type": "stream",
     "text": [
      "Enter a number:  9\n"
     ]
    },
    {
     "name": "stdout",
     "output_type": "stream",
     "text": [
      "This is an odd number.\n"
     ]
    }
   ],
   "source": [
    "#Problem-2\n",
    "#prints whether it is even or odd.\n",
    "num = int(input(\"Enter a number: \"))\n",
    "mod = num % 2\n",
    "if mod > 0:\n",
    "    print(\"This is an odd number.\")\n",
    "else:\n",
    "    print(\"This is an even number.\")"
   ]
  },
  {
   "cell_type": "code",
   "execution_count": 10,
   "id": "17404e3b-9b7a-47e8-9f12-0c5bd30c6cf9",
   "metadata": {},
   "outputs": [
    {
     "name": "stdin",
     "output_type": "stream",
     "text": [
      "Enter your string?\n",
      " Bangladesh\n"
     ]
    },
    {
     "name": "stdout",
     "output_type": "stream",
     "text": [
      "The original string  is :  Bangladesh\n",
      "The reversed string using a while loop is :  hsedalgnaB\n"
     ]
    }
   ],
   "source": [
    "#Problem-3\n",
    "# Reverse string  \n",
    "str = input('Enter your string?\\n') \n",
    "print (\"The original string  is : \",str)   \n",
    "reverse_String = \"\"  \n",
    "count = len(str) \n",
    "while count > 0:   \n",
    "    reverse_String += str[ count - 1 ] \n",
    "    count = count - 1   \n",
    "print (\"The reversed string using a while loop is : \",reverse_String)"
   ]
  },
  {
   "cell_type": "code",
   "execution_count": 14,
   "id": "ea887371-88ef-4c78-8a9f-a28a129e1b26",
   "metadata": {},
   "outputs": [
    {
     "name": "stdout",
     "output_type": "stream",
     "text": [
      "Python Convert List String Method\n",
      "<class 'str'>\n"
     ]
    }
   ],
   "source": [
    "#Problem-4\n",
    "# Converting to string\n",
    "a_list = [\"Python\", \"Convert\", \"List\", \"String\", \"Method\"]  \n",
    "  \n",
    "# Converting to string  \n",
    "string = \" \".join( a_list )\n",
    "# Printing the string  \n",
    "print (string)  \n",
    "print (type(string))  "
   ]
  },
  {
   "cell_type": "code",
   "execution_count": 16,
   "id": "4ad10a99-5b8f-43c5-b398-ca9a1cb39610",
   "metadata": {},
   "outputs": [
    {
     "name": "stdin",
     "output_type": "stream",
     "text": [
      "Enter the temp in Celsius:  98\n"
     ]
    },
    {
     "name": "stdout",
     "output_type": "stream",
     "text": [
      " Fahrenheit is:208.4\n"
     ]
    }
   ],
   "source": [
    "#Problem-5\n",
    "# Celcious to Farenheit\n",
    "Celsius = float(input(\"Enter the temp in Celsius: \"))\n",
    "\n",
    "Fahrenheit = (Celsius * 1.8) + 32\n",
    "\n",
    "print(' Fahrenheit is:%.1f'  %(Fahrenheit))\n"
   ]
  },
  {
   "cell_type": "code",
   "execution_count": null,
   "id": "0a91f884-cab3-4a8b-aecd-c8d190e4ab55",
   "metadata": {},
   "outputs": [],
   "source": [
    "#Problem-6\n",
    "def get_data_type(var):\n",
    "    return str(type(var)).split(\"'\")[1]\n",
    "\n",
    "# Example usage\n",
    "variable = 42\n",
    "print(get_data_type(variable))  "
   ]
  },
  {
   "cell_type": "code",
   "execution_count": null,
   "id": "d83d7e9e-fe3c-4a7d-a942-42b41d346bb3",
   "metadata": {},
   "outputs": [],
   "source": []
  },
  {
   "cell_type": "code",
   "execution_count": 27,
   "id": "8b2de3c0-a953-465f-afd1-16f2d83a7279",
   "metadata": {},
   "outputs": [
    {
     "name": "stdin",
     "output_type": "stream",
     "text": [
      "Enter your string?\n",
      " JaVaJ\n"
     ]
    },
    {
     "name": "stdout",
     "output_type": "stream",
     "text": [
      "PALINDROME !\n"
     ]
    }
   ],
   "source": [
    "#Problem-7\n",
    "str = input('Enter your string?\\n') \n",
    "strstr = str.casefold()  \n",
    "rev = reversed(str)  \n",
    "  \n",
    "if list(str) == list(rev):  \n",
    "   print(\"PALINDROME !\")  \n",
    "else:  \n",
    "   print(\"NOT PALINDROME !\")  \n"
   ]
  },
  {
   "cell_type": "code",
   "execution_count": 29,
   "id": "b1d5fea3-b5ca-40e6-a702-6b153d4a02bb",
   "metadata": {},
   "outputs": [
    {
     "name": "stdout",
     "output_type": "stream",
     "text": [
      "nohtyP\n"
     ]
    }
   ],
   "source": [
    "#Problem-8\n",
    "s=\"Python\" \n",
    "stringlength=len(s) \n",
    "slicedString=s[stringlength::-1] \n",
    "print (slicedString) "
   ]
  },
  {
   "cell_type": "code",
   "execution_count": 21,
   "id": "5a76fccc-52d1-4567-8919-dda62b0770ac",
   "metadata": {},
   "outputs": [
    {
     "name": "stdin",
     "output_type": "stream",
     "text": [
      "Enter your string?\n",
      " Bangla\n",
      "Enter your string?\n",
      " Desh\n"
     ]
    },
    {
     "name": "stdout",
     "output_type": "stream",
     "text": [
      "BanglaDesh\n",
      "Final output: Bangla Desh\n"
     ]
    }
   ],
   "source": [
    "#Problem-9\n",
    "var1 = input('Enter your string?\\n') \n",
    "var2 = input('Enter your string?\\n')    \n",
    "print(\"\".join([var1, var2]))    \n",
    "var3 = \" \".join([var1, var2])\n",
    "print(\"Final output:\",var3)\n",
    "    "
   ]
  },
  {
   "cell_type": "code",
   "execution_count": 14,
   "id": "9bde732a-6caf-4fe9-b750-e14e784200b9",
   "metadata": {},
   "outputs": [
    {
     "name": "stdout",
     "output_type": "stream",
     "text": [
      "114.5 is the answer.\n"
     ]
    }
   ],
   "source": [
    "#Problem-10\n",
    "a = '100'\n",
    "b = 25\n",
    "c = '10.5'\n",
    "result1 = int(a) + b\n",
    "result2 = result1 - float(c)\n",
    "Finalresult = str(result2)+\" is the answer.\"\n",
    "print(Finalresult) "
   ]
  },
  {
   "cell_type": "code",
   "execution_count": 16,
   "id": "6ae87abb-786d-4c1b-ace9-f38a7b9f922f",
   "metadata": {},
   "outputs": [
    {
     "name": "stdin",
     "output_type": "stream",
     "text": [
      "Enter a number:  55\n"
     ]
    },
    {
     "name": "stdout",
     "output_type": "stream",
     "text": [
      "The number is positive.\n"
     ]
    }
   ],
   "source": [
    "#Problem-11\n",
    "number = float(input(\"Enter a number: \"))\n",
    "if number > 0:\n",
    "    print(\"The number is positive.\")\n",
    "elif number < 0:\n",
    "    print(\"The number is negative.\")\n",
    "else:\n",
    "    print(\"The number is zero.\")\n"
   ]
  },
  {
   "cell_type": "code",
   "execution_count": 18,
   "id": "698a3288-d6b0-4c96-987c-63635987bc74",
   "metadata": {},
   "outputs": [
    {
     "name": "stdin",
     "output_type": "stream",
     "text": [
      "Enter first number:  5\n",
      "Enter second number:  8.9\n",
      "Enter third number:  8.1\n"
     ]
    },
    {
     "name": "stdout",
     "output_type": "stream",
     "text": [
      "The largest number is 8.9\n"
     ]
    }
   ],
   "source": [
    "#Problem-12\n",
    "num1 = float(input(\"Enter first number: \"))\n",
    "num2 = float(input(\"Enter second number: \"))\n",
    "num3 = float(input(\"Enter third number: \"))\n",
    "if (num1 >= num2) and (num1 >= num3):\n",
    "   largest = num1\n",
    "elif (num2 >= num1) and (num2 >= num3):\n",
    "   largest = num2\n",
    "else:\n",
    "   largest = num3\n",
    "\n",
    "print(\"The largest number is\", largest)\n"
   ]
  },
  {
   "cell_type": "code",
   "execution_count": 22,
   "id": "93d4af3d-76b5-450b-9d45-d601cd67f260",
   "metadata": {},
   "outputs": [
    {
     "name": "stdin",
     "output_type": "stream",
     "text": [
      " 2012\n"
     ]
    },
    {
     "name": "stdout",
     "output_type": "stream",
     "text": [
      "Leap year\n"
     ]
    }
   ],
   "source": [
    "#Problem-13\n",
    "year = int(input()) \n",
    "if year % 4 == 0:\n",
    "   if year % 100 == 0:\n",
    "       if year % 400 == 0:\n",
    "           print(\"Leap year\")\n",
    "       else:\n",
    "           print(\"Not a leap year\") \n",
    "   else:\n",
    "          print(\"Leap year\") \n",
    "else:\n",
    "   print(\"Not a leap year\")\n"
   ]
  },
  {
   "cell_type": "code",
   "execution_count": 28,
   "id": "b28feafb-daff-4ee4-abb0-7af0353dd2c2",
   "metadata": {},
   "outputs": [
    {
     "name": "stdin",
     "output_type": "stream",
     "text": [
      "Enter marks:  33\n"
     ]
    },
    {
     "name": "stdout",
     "output_type": "stream",
     "text": [
      "Grade: Fail\n"
     ]
    }
   ],
   "source": [
    "#Problem-14\n",
    "marks =int(input('Enter marks: '))\n",
    "print('Grade: ',end='')\n",
    "if marks>=90:\n",
    "    print('A+')\n",
    "elif marks>=80:\n",
    "    print('A')\n",
    "elif marks>=70:\n",
    "    print('B')\n",
    "elif marks>=60:\n",
    "    print('C')\n",
    "else:\n",
    "    print('Fail')\n",
    "    "
   ]
  },
  {
   "cell_type": "code",
   "execution_count": 32,
   "id": "bfb5df12-e97c-4822-b3cc-02e19564109d",
   "metadata": {},
   "outputs": [
    {
     "name": "stdin",
     "output_type": "stream",
     "text": [
      "Enter character:  a\n"
     ]
    },
    {
     "name": "stdout",
     "output_type": "stream",
     "text": [
      "a  is a vowel\n"
     ]
    }
   ],
   "source": [
    "#Problem-15\n",
    "char =input('Enter character: ')\n",
    "if char=='a' or char=='e' or char=='i' or char=='o' or char=='u':\n",
    "    print(char,' is a vowel')\n",
    "else:\n",
    "    print(char,' is a consonant')"
   ]
  },
  {
   "cell_type": "code",
   "execution_count": 39,
   "id": "ef6a8f48-29ab-47b4-8b77-3365c5da2a30",
   "metadata": {},
   "outputs": [
    {
     "name": "stdin",
     "output_type": "stream",
     "text": [
      "Type hours (1-24):  19\n"
     ]
    },
    {
     "name": "stdout",
     "output_type": "stream",
     "text": [
      "Good Evening\n"
     ]
    }
   ],
   "source": [
    "#Problem-16\n",
    "hour =int(input('Enter hours (1-24): '))\n",
    "if hour>=5 and hour<12:\n",
    "    print('Good Morning')\n",
    "elif hour>=12 and hour<17:\n",
    "    print('Good Afternoon')\n",
    "elif hour>=17 and hour<21:\n",
    "    print('Good Evening')\n",
    "else:\n",
    "    print('Good Night')"
   ]
  },
  {
   "cell_type": "code",
   "execution_count": 41,
   "id": "b40b4682-bee7-42c0-bdb1-35a907f86c10",
   "metadata": {},
   "outputs": [
    {
     "name": "stdin",
     "output_type": "stream",
     "text": [
      "Enter side 1:  5\n",
      "Enter side 2:  5\n",
      "Enter side 3:  4\n"
     ]
    },
    {
     "name": "stdout",
     "output_type": "stream",
     "text": [
      "This is a isosceles triangle\n"
     ]
    }
   ],
   "source": [
    "#Problem-17\n",
    "side_1 =int(input('Enter side 1: '))\n",
    "side_2 =int(input('Enter side 2: '))\n",
    "side_3 =int(input('Enter side 3: '))\n",
    "if side_1==side_2 and side_2==side_3:\n",
    "    print('This is a equilateral triangle')\n",
    "elif  side_1==side_2 or side_2==side_3 or side_1==side_3:\n",
    "    print('This is a isosceles triangle')\n",
    "else:\n",
    "    print('This is a scalene triangle')"
   ]
  },
  {
   "cell_type": "code",
   "execution_count": 58,
   "id": "ca2ccf02-d53f-48b1-b529-55f74142e2e2",
   "metadata": {},
   "outputs": [
    {
     "name": "stdin",
     "output_type": "stream",
     "text": [
      "Enter a:  4\n",
      "Enter b:  5\n",
      "Enter c:  6\n"
     ]
    },
    {
     "name": "stdout",
     "output_type": "stream",
     "text": [
      "The solution are (-0.625-1.0532687216470449j) and (-0.625+1.0532687216470449j)\n"
     ]
    }
   ],
   "source": [
    "#problem-18\n",
    "import cmath  \n",
    "a = float(input('Enter a: '))  \n",
    "b = float(input('Enter b: '))  \n",
    "c = float(input('Enter c: '))  \n",
    "d = (b**2) - (4*a*c)\n",
    "\n",
    "sol1 = (-b-cmath.sqrt(d))/(2*a)\n",
    "sol2 = (-b+cmath.sqrt(d))/(2*a)\n",
    "\n",
    "print('The solution are {0} and {1}'.format(sol1,sol2))"
   ]
  },
  {
   "cell_type": "code",
   "execution_count": 60,
   "id": "858822ef-ea16-4fbd-b400-b8ccfca7699d",
   "metadata": {},
   "outputs": [
    {
     "name": "stdin",
     "output_type": "stream",
     "text": [
      "Type number:  67\n"
     ]
    },
    {
     "name": "stdout",
     "output_type": "stream",
     "text": [
      "Range: 51-100\n"
     ]
    }
   ],
   "source": [
    "#problem-19\n",
    "number =int(input('Enter number: '))\n",
    "number = 76\n",
    "if number>0 and number<=50:\n",
    "    print('Range: 0-50')\n",
    "elif number>50 and number<=100:\n",
    "    print('Range: 51-100')\n",
    "elif number>100 and number<=150:\n",
    "    print('Range: 101-150')\n",
    "elif number>150:\n",
    "    print('Range: above 150')\n",
    "else:\n",
    "    print('Invalid Range')"
   ]
  },
  {
   "cell_type": "code",
   "execution_count": 62,
   "id": "6505ace9-02d4-4405-a446-ca38d381e5a8",
   "metadata": {},
   "outputs": [
    {
     "name": "stdin",
     "output_type": "stream",
     "text": [
      "Type number:  20\n"
     ]
    },
    {
     "name": "stdout",
     "output_type": "stream",
     "text": [
      "The sum is 210\n"
     ]
    }
   ],
   "source": [
    "#Problem-20\n",
    "\n",
    "num = int(input('Type number: '))\n",
    "if num < 0:\n",
    "   print(\"Enter a positive number\")\n",
    "else:\n",
    "   sum = 0\n",
    "   while(num > 0):\n",
    "       sum += num\n",
    "       num -= 1\n",
    "   print(\"The sum is\", sum)\n"
   ]
  },
  {
   "cell_type": "code",
   "execution_count": 64,
   "id": "efc6fc4e-f804-4713-9ff9-05e0b38cecbc",
   "metadata": {},
   "outputs": [
    {
     "name": "stdin",
     "output_type": "stream",
     "text": [
      "Enter a number:  5\n"
     ]
    },
    {
     "name": "stdout",
     "output_type": "stream",
     "text": [
      "The factorial of 5 is 120\n"
     ]
    }
   ],
   "source": [
    "#Promlem-21\n",
    "num = int(input(\"Enter a number: \"))    \n",
    "factorial = 1    \n",
    "if num < 0:    \n",
    "   print(\" Factorial does not exist \")    \n",
    "elif num == 0:    \n",
    "   print(\"The factorial of 0 is 1\")    \n",
    "else:    \n",
    "   for i in range(1,num + 1):    \n",
    "       factorial = factorial*i    \n",
    "   print(\"The factorial of\",num,\"is\",factorial)  \n"
   ]
  },
  {
   "cell_type": "code",
   "execution_count": 70,
   "id": "d7f0e2c2-bcf8-4672-9677-a84d9fe13e0d",
   "metadata": {},
   "outputs": [
    {
     "name": "stdin",
     "output_type": "stream",
     "text": [
      "Display multiplication table of?  5\n"
     ]
    },
    {
     "name": "stdout",
     "output_type": "stream",
     "text": [
      "5 x 1 = 5\n",
      "5 x 2 = 10\n",
      "5 x 3 = 15\n",
      "5 x 4 = 20\n",
      "5 x 5 = 25\n",
      "5 x 6 = 30\n",
      "5 x 7 = 35\n",
      "5 x 8 = 40\n",
      "5 x 9 = 45\n",
      "5 x 10 = 50\n",
      "sum = 56\n"
     ]
    }
   ],
   "source": [
    "#Problem-22\n",
    "num = int(input(\"Display multiplication table of? \"))\n",
    "for i in range(1, 11):\n",
    "   print(num, 'x', i, '=', num*i)\n",
    "\n",
    "16. \n",
    "sum=0\n",
    "for i in range(15):\n",
    "  if i%2==0:\n",
    "    sum=sum+i\n",
    "print(\"sum =\",sum)\n"
   ]
  },
  {
   "cell_type": "code",
   "execution_count": 76,
   "id": "4d2372dc-94cb-49a5-bc66-6ef5ec178828",
   "metadata": {},
   "outputs": [
    {
     "ename": "KeyboardInterrupt",
     "evalue": "Interrupted by user",
     "output_type": "error",
     "traceback": [
      "\u001b[1;31m---------------------------------------------------------------------------\u001b[0m",
      "\u001b[1;31mKeyboardInterrupt\u001b[0m                         Traceback (most recent call last)",
      "Cell \u001b[1;32mIn[76], line 2\u001b[0m\n\u001b[0;32m      1\u001b[0m \u001b[38;5;66;03m#Problem-23\u001b[39;00m\n\u001b[1;32m----> 2\u001b[0m number \u001b[38;5;241m=\u001b[39m \u001b[38;5;28mint\u001b[39m(\u001b[38;5;28minput\u001b[39m(\u001b[38;5;124m'\u001b[39m\u001b[38;5;124mEnter number: \u001b[39m\u001b[38;5;124m'\u001b[39m))\n\u001b[0;32m      3\u001b[0m count \u001b[38;5;241m=\u001b[39m \u001b[38;5;241m0\u001b[39m\n\u001b[0;32m      4\u001b[0m \u001b[38;5;28;01mwhile\u001b[39;00m number\u001b[38;5;241m!=\u001b[39m\u001b[38;5;241m0\u001b[39m:\n",
      "File \u001b[1;32m~\\anaconda3\\Lib\\site-packages\\ipykernel\\kernelbase.py:1262\u001b[0m, in \u001b[0;36mKernel.raw_input\u001b[1;34m(self, prompt)\u001b[0m\n\u001b[0;32m   1260\u001b[0m     msg \u001b[38;5;241m=\u001b[39m \u001b[38;5;124m\"\u001b[39m\u001b[38;5;124mraw_input was called, but this frontend does not support input requests.\u001b[39m\u001b[38;5;124m\"\u001b[39m\n\u001b[0;32m   1261\u001b[0m     \u001b[38;5;28;01mraise\u001b[39;00m StdinNotImplementedError(msg)\n\u001b[1;32m-> 1262\u001b[0m \u001b[38;5;28;01mreturn\u001b[39;00m \u001b[38;5;28mself\u001b[39m\u001b[38;5;241m.\u001b[39m_input_request(\n\u001b[0;32m   1263\u001b[0m     \u001b[38;5;28mstr\u001b[39m(prompt),\n\u001b[0;32m   1264\u001b[0m     \u001b[38;5;28mself\u001b[39m\u001b[38;5;241m.\u001b[39m_parent_ident[\u001b[38;5;124m\"\u001b[39m\u001b[38;5;124mshell\u001b[39m\u001b[38;5;124m\"\u001b[39m],\n\u001b[0;32m   1265\u001b[0m     \u001b[38;5;28mself\u001b[39m\u001b[38;5;241m.\u001b[39mget_parent(\u001b[38;5;124m\"\u001b[39m\u001b[38;5;124mshell\u001b[39m\u001b[38;5;124m\"\u001b[39m),\n\u001b[0;32m   1266\u001b[0m     password\u001b[38;5;241m=\u001b[39m\u001b[38;5;28;01mFalse\u001b[39;00m,\n\u001b[0;32m   1267\u001b[0m )\n",
      "File \u001b[1;32m~\\anaconda3\\Lib\\site-packages\\ipykernel\\kernelbase.py:1305\u001b[0m, in \u001b[0;36mKernel._input_request\u001b[1;34m(self, prompt, ident, parent, password)\u001b[0m\n\u001b[0;32m   1302\u001b[0m \u001b[38;5;28;01mexcept\u001b[39;00m \u001b[38;5;167;01mKeyboardInterrupt\u001b[39;00m:\n\u001b[0;32m   1303\u001b[0m     \u001b[38;5;66;03m# re-raise KeyboardInterrupt, to truncate traceback\u001b[39;00m\n\u001b[0;32m   1304\u001b[0m     msg \u001b[38;5;241m=\u001b[39m \u001b[38;5;124m\"\u001b[39m\u001b[38;5;124mInterrupted by user\u001b[39m\u001b[38;5;124m\"\u001b[39m\n\u001b[1;32m-> 1305\u001b[0m     \u001b[38;5;28;01mraise\u001b[39;00m \u001b[38;5;167;01mKeyboardInterrupt\u001b[39;00m(msg) \u001b[38;5;28;01mfrom\u001b[39;00m \u001b[38;5;28;01mNone\u001b[39;00m\n\u001b[0;32m   1306\u001b[0m \u001b[38;5;28;01mexcept\u001b[39;00m \u001b[38;5;167;01mException\u001b[39;00m:\n\u001b[0;32m   1307\u001b[0m     \u001b[38;5;28mself\u001b[39m\u001b[38;5;241m.\u001b[39mlog\u001b[38;5;241m.\u001b[39mwarning(\u001b[38;5;124m\"\u001b[39m\u001b[38;5;124mInvalid Message:\u001b[39m\u001b[38;5;124m\"\u001b[39m, exc_info\u001b[38;5;241m=\u001b[39m\u001b[38;5;28;01mTrue\u001b[39;00m)\n",
      "\u001b[1;31mKeyboardInterrupt\u001b[0m: Interrupted by user"
     ]
    },
    {
     "name": "stdin",
     "output_type": "stream",
     "text": [
      "Enter number:  5\n"
     ]
    }
   ],
   "source": [
    "#Problem-23\n",
    "number = int(input('Enter number: '))\n",
    "count = 0\n",
    "while number!=0:\n",
    "    number=number//10\n",
    "    count+=1\n",
    "print('Number of digit: ',count)"
   ]
  },
  {
   "cell_type": "code",
   "execution_count": 78,
   "id": "7656488e-c4a1-4c74-9eff-2ea7382ceb77",
   "metadata": {},
   "outputs": [
    {
     "name": "stdin",
     "output_type": "stream",
     "text": [
      "How many num?  5\n"
     ]
    },
    {
     "name": "stdout",
     "output_type": "stream",
     "text": [
      "Fibonacci sequence:\n",
      "0\n",
      "1\n",
      "1\n",
      "2\n",
      "3\n"
     ]
    }
   ],
   "source": [
    "#Problem-24\n",
    "num = int(input(\"How many num? \"))\n",
    "n1, n2 = 0, 1\n",
    "count = 0\n",
    "if num <= 0:\n",
    "   print(\"Please enter a positive integer\")\n",
    "elif num== 1:\n",
    "   print(\"Fibonacci sequence upto\",num,\":\")\n",
    "   print(n1)\n",
    "else:\n",
    "   print(\"Fibonacci sequence:\")\n",
    "   while count < num:\n",
    "       print(n1)\n",
    "       nth = n1 + n2\n",
    "       n1 = n2\n",
    "       n2 = nth\n",
    "       count += 1\n"
   ]
  },
  {
   "cell_type": "code",
   "execution_count": 80,
   "id": "9bec5627-5866-46d2-a310-3cd063deb168",
   "metadata": {},
   "outputs": [
    {
     "name": "stdin",
     "output_type": "stream",
     "text": [
      "Enter number:  33\n"
     ]
    },
    {
     "name": "stdout",
     "output_type": "stream",
     "text": [
      "Sum of even number:  272\n"
     ]
    }
   ],
   "source": [
    "#Problem-25\n",
    "\n",
    "number = int(input('Enter number: '))\n",
    "sum_even = 0\n",
    "for i in range(2,number+1,2):\n",
    "    sum_even+=i\n",
    "print('Sum of even number: ',sum_even)"
   ]
  },
  {
   "cell_type": "code",
   "execution_count": 82,
   "id": "2e928c1d-ecf6-4c47-a5cb-b503bef8b506",
   "metadata": {},
   "outputs": [
    {
     "name": "stdout",
     "output_type": "stream",
     "text": [
      "*\n",
      "**\n",
      "***\n",
      "****\n",
      "*****\n",
      "----------------\n",
      "*****\n",
      "****\n",
      "***\n",
      "**\n",
      "*\n",
      "----------------\n",
      "    *\n",
      "   **\n",
      "  ***\n",
      " ****\n",
      "*****\n",
      "----------------\n",
      "*****\n",
      " ****\n",
      "  ***\n",
      "   **\n",
      "    *\n",
      "----------------\n"
     ]
    }
   ],
   "source": [
    "#Problem-26\n",
    "for i in range(1,6):\n",
    "    for j in range(1,i+1):\n",
    "        print('*',end='')\n",
    "    print()\n",
    "print('----------------')\n",
    "for i in range(1,6):\n",
    "    for j in range(1,7-i):\n",
    "        print('*',end='')\n",
    "    print()\n",
    "print('----------------')\n",
    "for i in range(1,6):\n",
    "    for j in range(1,6-i):\n",
    "        print(' ',end='')\n",
    "    for j in range(1,i+1):\n",
    "        print('*',end='')\n",
    "    print()\n",
    "print('----------------')\n",
    "for i in range(1,6):\n",
    "    for j in range(1,i):\n",
    "        print(' ',end='')\n",
    "    for j in range(1,7-i):\n",
    "        print('*',end='')\n",
    "    print()\n",
    "print('----------------')\n"
   ]
  },
  {
   "cell_type": "code",
   "execution_count": 96,
   "id": "e5d176ea-ffda-49ca-8e1c-745104a01998",
   "metadata": {},
   "outputs": [
    {
     "name": "stdin",
     "output_type": "stream",
     "text": [
      "Input numbers  9\n"
     ]
    },
    {
     "name": "stdout",
     "output_type": "stream",
     "text": [
      "Not prime Number\n"
     ]
    }
   ],
   "source": [
    "#Problem-27\n",
    "number = int(input(\"Input numbers \"))\n",
    "i = 2\n",
    "is_prime = True\n",
    "while i<number//2+1:\n",
    "    if number%i==0:\n",
    "        is_prime = False\n",
    "        break;\n",
    "    i+=1\n",
    "if is_prime:\n",
    "    print('Prime Number')\n",
    "else:\n",
    "    print('Not prime Number')\n",
    "\n"
   ]
  },
  {
   "cell_type": "code",
   "execution_count": 100,
   "id": "2522ee68-f9d3-4ecd-8e49-f8feb6dc9e3d",
   "metadata": {},
   "outputs": [
    {
     "name": "stdout",
     "output_type": "stream",
     "text": [
      "Sum:  248\n",
      "Average:  41.33\n",
      "Maximum:  80\n",
      "Minimum:  9\n"
     ]
    }
   ],
   "source": [
    "#Problem-28\n",
    "number_list = [12,30,75,9,42,80]\n",
    "sum_val = 0\n",
    "max_val = 0\n",
    "min_val = 9999\n",
    "count_val = len(number_list)\n",
    "for i in number_list:\n",
    "    sum_val+=i\n",
    "    if max_val<i:\n",
    "        max_val=i\n",
    "    if min_val>i:\n",
    "        min_val=i\n",
    "avg_val = sum_val/count_val\n",
    "print('Sum: ',sum_val)\n",
    "print('Average: ',round(avg_val, 2))\n",
    "print('Maximum: ',max_val)\n",
    "print('Minimum: ',min_val)"
   ]
  },
  {
   "cell_type": "code",
   "execution_count": 102,
   "id": "dbb239ed-badf-4b5a-bda7-0f7d4fb3d035",
   "metadata": {},
   "outputs": [
    {
     "name": "stdout",
     "output_type": "stream",
     "text": [
      "AZAM\n",
      "MAZA"
     ]
    }
   ],
   "source": [
    "#Problem-29\n",
    "my_string = \"AZAM\"\n",
    "print(my_string)\n",
    "str_len = len(my_string)-1\n",
    "while str_len>-1:\n",
    "    print(my_string[str_len],end='')\n",
    "    str_len-=1"
   ]
  },
  {
   "cell_type": "code",
   "execution_count": 104,
   "id": "43f15a0f-ffb3-48d7-a08d-847f976db2bc",
   "metadata": {},
   "outputs": [
    {
     "name": "stdout",
     "output_type": "stream",
     "text": [
      "1  X  1  =  1\n",
      "1  X  2  =  2\n",
      "1  X  3  =  3\n",
      "1  X  4  =  4\n",
      "1  X  5  =  5\n",
      "1  X  6  =  6\n",
      "1  X  7  =  7\n",
      "1  X  8  =  8\n",
      "1  X  9  =  9\n",
      "1  X  10  =  10\n",
      "\n",
      "2  X  1  =  2\n",
      "2  X  2  =  4\n",
      "2  X  3  =  6\n",
      "2  X  4  =  8\n",
      "2  X  5  =  10\n",
      "2  X  6  =  12\n",
      "2  X  7  =  14\n",
      "2  X  8  =  16\n",
      "2  X  9  =  18\n",
      "2  X  10  =  20\n",
      "\n",
      "3  X  1  =  3\n",
      "3  X  2  =  6\n",
      "3  X  3  =  9\n",
      "3  X  4  =  12\n",
      "3  X  5  =  15\n",
      "3  X  6  =  18\n",
      "3  X  7  =  21\n",
      "3  X  8  =  24\n",
      "3  X  9  =  27\n",
      "3  X  10  =  30\n",
      "\n",
      "4  X  1  =  4\n",
      "4  X  2  =  8\n",
      "4  X  3  =  12\n",
      "4  X  4  =  16\n",
      "4  X  5  =  20\n",
      "4  X  6  =  24\n",
      "4  X  7  =  28\n",
      "4  X  8  =  32\n",
      "4  X  9  =  36\n",
      "4  X  10  =  40\n",
      "\n",
      "5  X  1  =  5\n",
      "5  X  2  =  10\n",
      "5  X  3  =  15\n",
      "5  X  4  =  20\n",
      "5  X  5  =  25\n",
      "5  X  6  =  30\n",
      "5  X  7  =  35\n",
      "5  X  8  =  40\n",
      "5  X  9  =  45\n",
      "5  X  10  =  50\n",
      "\n",
      "6  X  1  =  6\n",
      "6  X  2  =  12\n",
      "6  X  3  =  18\n",
      "6  X  4  =  24\n",
      "6  X  5  =  30\n",
      "6  X  6  =  36\n",
      "6  X  7  =  42\n",
      "6  X  8  =  48\n",
      "6  X  9  =  54\n",
      "6  X  10  =  60\n",
      "\n",
      "7  X  1  =  7\n",
      "7  X  2  =  14\n",
      "7  X  3  =  21\n",
      "7  X  4  =  28\n",
      "7  X  5  =  35\n",
      "7  X  6  =  42\n",
      "7  X  7  =  49\n",
      "7  X  8  =  56\n",
      "7  X  9  =  63\n",
      "7  X  10  =  70\n",
      "\n",
      "8  X  1  =  8\n",
      "8  X  2  =  16\n",
      "8  X  3  =  24\n",
      "8  X  4  =  32\n",
      "8  X  5  =  40\n",
      "8  X  6  =  48\n",
      "8  X  7  =  56\n",
      "8  X  8  =  64\n",
      "8  X  9  =  72\n",
      "8  X  10  =  80\n",
      "\n",
      "9  X  1  =  9\n",
      "9  X  2  =  18\n",
      "9  X  3  =  27\n",
      "9  X  4  =  36\n",
      "9  X  5  =  45\n",
      "9  X  6  =  54\n",
      "9  X  7  =  63\n",
      "9  X  8  =  72\n",
      "9  X  9  =  81\n",
      "9  X  10  =  90\n",
      "\n",
      "10  X  1  =  10\n",
      "10  X  2  =  20\n",
      "10  X  3  =  30\n",
      "10  X  4  =  40\n",
      "10  X  5  =  50\n",
      "10  X  6  =  60\n",
      "10  X  7  =  70\n",
      "10  X  8  =  80\n",
      "10  X  9  =  90\n",
      "10  X  10  =  100\n",
      "\n"
     ]
    }
   ],
   "source": [
    "\n",
    "#Problem-30\n",
    "for i in range(1,11):\n",
    "    for j in range(1,11):\n",
    "        print(i,' X ',j,' = ',i*j)\n",
    "    print()"
   ]
  },
  {
   "cell_type": "code",
   "execution_count": 106,
   "id": "ec0281c9-9b9b-4f91-93b6-484344d44712",
   "metadata": {},
   "outputs": [
    {
     "name": "stdout",
     "output_type": "stream",
     "text": [
      "*\n",
      "**\n",
      "***\n",
      "****\n",
      "*****\n"
     ]
    }
   ],
   "source": [
    "#Problem-31\n",
    "for i in range(1,6):\n",
    "    for j in range(1,i+1):\n",
    "        print('*',end='')\n",
    "    print()"
   ]
  },
  {
   "cell_type": "code",
   "execution_count": 114,
   "id": "4ea18841-3dbf-4bc3-96eb-18dc1149004b",
   "metadata": {},
   "outputs": [
    {
     "name": "stdout",
     "output_type": "stream",
     "text": [
      "----A----\n",
      "1 1 1 \n",
      "2 2 2 \n",
      "3 3 3 \n",
      "----B----\n",
      "1 1 1 \n",
      "2 2 2 \n",
      "3 3 3 \n",
      "----A X B----\n",
      "6 6 6 \n",
      "12 12 12 \n",
      "18 18 18 \n"
     ]
    }
   ],
   "source": [
    "#Problem-32\n",
    "from array import *\n",
    "A = [[1,1,1],[2,2,2],[3,3,3]]\n",
    "B = [[1,1,1],[2,2,2],[3,3,3]]\n",
    "C = [[0,0,0],[0,0,0],[0,0,0]]\n",
    "print('----A----') \n",
    "for i in range(0,3):\n",
    "    for j in range(0,3):\n",
    "        print(A[i][j],end=' ')\n",
    "    print()\n",
    "print('----B----') \n",
    "for i in range(0,3):\n",
    "    for j in range(0,3):\n",
    "        print(B[i][j],end=' ')\n",
    "    print()\n",
    "print('----A X B----') \n",
    "i=0\n",
    "while i<3:  \n",
    "    j=0\n",
    "    while j<3:\n",
    "        k=0\n",
    "        while k<3:\n",
    "            C[i][j]+=A[i][k]*B[k][j]\n",
    "            k+=1\n",
    "        j+=1\n",
    "    i+=1\n",
    "for i in range(0,3):\n",
    "    for j in range(0,3):\n",
    "        print(C[i][j],end=' ')\n",
    "    print()\n"
   ]
  },
  {
   "cell_type": "code",
   "execution_count": 116,
   "id": "c4b260ca-0ede-48a3-96dd-a89f5bd4c492",
   "metadata": {},
   "outputs": [
    {
     "name": "stdout",
     "output_type": "stream",
     "text": [
      "1\n",
      "22\n",
      "333\n",
      "4444\n",
      "55555\n"
     ]
    }
   ],
   "source": [
    "#Problem-33\n",
    "for i in range(1,6):\n",
    "    for j in range(1,i+1):\n",
    "        print(i,end='')\n",
    "    print()"
   ]
  },
  {
   "cell_type": "code",
   "execution_count": 118,
   "id": "59fb5c37-17f8-4cba-a7ec-0340a8adf023",
   "metadata": {},
   "outputs": [
    {
     "name": "stdout",
     "output_type": "stream",
     "text": [
      "Sum:  248\n"
     ]
    }
   ],
   "source": [
    "#Problem-34\n",
    "number_list = [12,30,75,9,42,80]\n",
    "sum_val = 0\n",
    "for i in number_list:\n",
    "    sum_val+=i\n",
    "print('Sum: ',sum_val)"
   ]
  },
  {
   "cell_type": "code",
   "execution_count": 120,
   "id": "c5ab7984-3d3e-4895-b4cc-d95700bcad86",
   "metadata": {},
   "outputs": [
    {
     "name": "stdout",
     "output_type": "stream",
     "text": [
      "Average:  41.33\n"
     ]
    }
   ],
   "source": [
    "#Problem-35\n",
    "number_list = [12,30,75,9,42,80]\n",
    "sum_val = 0\n",
    "count_val = len(number_list)\n",
    "for i in number_list:\n",
    "    sum_val+=i\n",
    "avg_val = sum_val/count_val\n",
    "print('Average: ',round(avg_val,2))\n"
   ]
  },
  {
   "cell_type": "code",
   "execution_count": 122,
   "id": "d221b222-eb96-4a97-809a-1f8d9ff74ae6",
   "metadata": {},
   "outputs": [
    {
     "name": "stdout",
     "output_type": "stream",
     "text": [
      "Maximum:  80\n",
      "Minimum:  9\n"
     ]
    }
   ],
   "source": [
    "#Problem-36\n",
    "number_list = [12,30,75,9,42,80]\n",
    "max_val = 0\n",
    "min_val = 9999\n",
    "for i in number_list:\n",
    "    if max_val<i:\n",
    "        max_val=i\n",
    "    if min_val>i:\n",
    "        min_val=i\n",
    "print('Maximum: ',max_val)\n",
    "print('Minimum: ',min_val)"
   ]
  },
  {
   "cell_type": "code",
   "execution_count": null,
   "id": "1a99f468-6e75-40ca-9ce6-5977c73b3e96",
   "metadata": {},
   "outputs": [],
   "source": [
    "#Problem-37\n",
    "number_list = [12,30,75,9,42,80]\n",
    "print('List: ',number_list)\n",
    "count_val = len(number_list)\n",
    "i=1\n",
    "while i<count_val:\n",
    "    j=0\n",
    "    while count_val-i>j:\n",
    "        if number_list[j]>number_list[j+1]:\n",
    "            temp = number_list[j]\n",
    "            number_list[j]=number_list[j+1]\n",
    "            number_list[j+1]= temp\n",
    "        j+=1\n",
    "    i+=1\n",
    "print('Sorted List: ',number_list)"
   ]
  },
  {
   "cell_type": "code",
   "execution_count": null,
   "id": "357b566b-915e-4ac4-a5e7-9443e404c752",
   "metadata": {},
   "outputs": [],
   "source": [
    "\n",
    "#Problem38\n",
    "number_list = [12,30,75,9,42,80]\n",
    "print('List: ',number_list)\n",
    "new_list = []\n",
    "i=0\n",
    "while i<count_val:\n",
    "    if number_list[i]%2==0:\n",
    "        new_list.append(number_list[i])\n",
    "    i+=1\n",
    "print('Even List: ',new_list)"
   ]
  },
  {
   "cell_type": "code",
   "execution_count": null,
   "id": "f466c860-8e16-4e9e-aae0-838bab7162ac",
   "metadata": {},
   "outputs": [],
   "source": [
    "\n",
    "#Problem39\n",
    "number_list = [12,30,75,9,42,80]\n",
    "print('List: ',number_list)\n",
    "number_list.reverse()\n",
    "print('Sorted List: ',number_list)"
   ]
  },
  {
   "cell_type": "code",
   "execution_count": 124,
   "id": "7f584e21-71f0-448d-8297-34960dd103c2",
   "metadata": {},
   "outputs": [
    {
     "name": "stdout",
     "output_type": "stream",
     "text": [
      "List:  [12, 30, 75, 9, 42, 80]\n",
      "List:  [12, 40, 75, 8, 52, 80]\n",
      "Common in Lists:  [12, 75, 80]\n"
     ]
    }
   ],
   "source": [
    "# Problem40\n",
    "number_list_1 = [12,30,75,9,42,80]\n",
    "number_list_2 = [12,40,75,8,52,80]\n",
    "print('List: ',number_list_1)\n",
    "print('List: ',number_list_2)\n",
    "new_list = []\n",
    "i=0\n",
    "while i<len(number_list):\n",
    "    if number_list_1[i]==number_list_2[i]:\n",
    "        new_list.append(number_list_1[i])\n",
    "    i+=1\n",
    "print('Common in Lists: ',new_list)"
   ]
  },
  {
   "cell_type": "code",
   "execution_count": 126,
   "id": "4fa6c195-ea8e-40d4-a462-248043eeba17",
   "metadata": {},
   "outputs": [
    {
     "name": "stdout",
     "output_type": "stream",
     "text": [
      "List:  [12, 3, 12, 9, 42, 80, 3, 3, 9]\n",
      "New List:  [12, 3, 9, 42, 80]\n",
      "Count List:  [2, 3, 2, 1, 1]\n"
     ]
    }
   ],
   "source": [
    "# Problem41\n",
    "number_list = [12,3,12,9,42,80,3,3,9]\n",
    "print('List: ',number_list)\n",
    "count_val = len(number_list)\n",
    "new_number_list = []\n",
    "count_number_list = []\n",
    "i=0\n",
    "while i<count_val:\n",
    "    j=i+1\n",
    "    count_number = 1\n",
    "    if number_list[i]!=0:\n",
    "        new_number_list.append(number_list[i])\n",
    "        while j<count_val:   \n",
    "            if number_list[i]==number_list[j]:\n",
    "                number_list[j]=0\n",
    "                count_number+=1\n",
    "            j+=1  \n",
    "        number_list[i]=0\n",
    "        count_number_list.append(count_number)\n",
    "    i+=1\n",
    "print('New List: ',new_number_list)\n",
    "print('Count List: ',count_number_list)"
   ]
  },
  {
   "cell_type": "code",
   "execution_count": 128,
   "id": "02a2c2f8-006a-4f4c-8daf-bf2f6810c403",
   "metadata": {},
   "outputs": [
    {
     "name": "stdout",
     "output_type": "stream",
     "text": [
      "List:  [12, 3, 12, 9, 42, 80, 3, 3, 9]\n",
      "New List(remove duplicate):  [12, 3, 9, 42, 80, 9]\n"
     ]
    }
   ],
   "source": [
    "# Problem42\n",
    "number_list = [12,3,12,9,42,80,3,3,9]\n",
    "print('List: ',number_list)\n",
    "count_val = len(number_list)\n",
    "new_number_list = []\n",
    "i=0\n",
    "while i<count_val:\n",
    "    j=i+1\n",
    "    count_number = 1\n",
    "    if number_list[i]!=0:\n",
    "        new_number_list.append(number_list[i])\n",
    "        while j<count_val-1:   \n",
    "            if number_list[i]==number_list[j]:\n",
    "                number_list[j]=0\n",
    "            j+=1  \n",
    "        number_list[i]=0\n",
    "    i+=1\n",
    "print('New List(remove duplicate): ',new_number_list)"
   ]
  },
  {
   "cell_type": "code",
   "execution_count": 130,
   "id": "fe021ad9-1bae-4968-a374-d7623b082029",
   "metadata": {},
   "outputs": [
    {
     "name": "stdout",
     "output_type": "stream",
     "text": [
      "List:  [2, 7, 3, 9, 6, 1, 5]\n",
      "New List:  [4, 49, 9, 81, 36, 1, 25]\n"
     ]
    }
   ],
   "source": [
    "#problem43\n",
    "number_list = [2,7,3,9,6,1,5]\n",
    "print('List: ',number_list)\n",
    "new_number_list = [i**2 for i in number_list]\n",
    "print('New List: ',new_number_list)"
   ]
  },
  {
   "cell_type": "code",
   "execution_count": 132,
   "id": "8c270e5c-21b0-426c-8dd1-31b624dc8e29",
   "metadata": {},
   "outputs": [
    {
     "name": "stdout",
     "output_type": "stream",
     "text": [
      "----A----\n",
      "1 1 1 \n",
      "2 2 2 \n",
      "3 3 3 \n",
      "----B----\n",
      "1 1 1 \n",
      "2 2 2 \n",
      "3 3 3 \n",
      "----A + B----\n",
      "2 2 2 \n",
      "4 4 4 \n",
      "6 6 6 \n"
     ]
    }
   ],
   "source": [
    "#problem44\n",
    "A = [[1,1,1],[2,2,2],[3,3,3]]\n",
    "B = [[1,1,1],[2,2,2],[3,3,3]]\n",
    "C = [[0,0,0],[0,0,0],[0,0,0]]\n",
    "print('----A----') \n",
    "for i in range(0,3):\n",
    "    for j in range(0,3):\n",
    "        print(A[i][j],end=' ')\n",
    "    print()\n",
    "print('----B----') \n",
    "for i in range(0,3):\n",
    "    for j in range(0,3):\n",
    "        print(B[i][j],end=' ')\n",
    "    print()\n",
    "print('----A + B----') \n",
    "i=0\n",
    "while i<3:  \n",
    "    j=0\n",
    "    while j<3:\n",
    "        C[i][j]=A[i][j]+B[i][j]\n",
    "        j+=1\n",
    "    i+=1\n",
    "for i in range(0,3):\n",
    "    for j in range(0,3):\n",
    "        print(C[i][j],end=' ')\n",
    "    print()\n"
   ]
  },
  {
   "cell_type": "code",
   "execution_count": 134,
   "id": "22d56b50-a382-41cf-84bd-1a5a83b57325",
   "metadata": {},
   "outputs": [
    {
     "name": "stdout",
     "output_type": "stream",
     "text": [
      "List:  [1, [2, 3], [4, 5, 6], 7, [8, 9, 10]]\n",
      "New List:  [1, 2, 3, 4, 5, 6, 7, 8, 9, 10]\n"
     ]
    }
   ],
   "source": [
    "#problem45\n",
    "number_list = [1, [2, 3], [4, 5, 6], 7, [8, 9, 10]]\n",
    "print('List: ',number_list)\n",
    "new_number_list = []\n",
    "for i in number_list:\n",
    "    if type(i).__name__=='list':\n",
    "        new_number_list.extend(i)\n",
    "    else:\n",
    "        new_number_list.append(i)\n",
    "print('New List: ',new_number_list)"
   ]
  },
  {
   "cell_type": "code",
   "execution_count": null,
   "id": "9e97915d-4aa4-4a20-9e5f-a94364f2ac47",
   "metadata": {},
   "outputs": [],
   "source": [
    "#problem46\n",
    "number_list = [1, [2, 3], [4, 1, 5], 2, [3, 6, 4, 2]]\n",
    "print('List: ',number_list)\n",
    "new_number_list = []\n",
    "for i in number_list:\n",
    "    if type(i).__name__=='list':\n",
    "        new_number_list.extend(i)\n",
    "    else:\n",
    "        new_number_list.append(i)\n",
    "print('New List(single): ',new_number_list)\n",
    "\n",
    "\n",
    "count_val = len(new_number_list)\n",
    "unique_number_list = []\n",
    "count_number_list = []\n",
    "i=0\n",
    "while i<count_val:\n",
    "    j=i+1\n",
    "    count_number = 1\n",
    "    if new_number_list[i]!=0:\n",
    "        unique_number_list.append(new_number_list[i])\n",
    "        while j<count_val:   \n",
    "            if new_number_list[i]==new_number_list[j]:\n",
    "                new_number_list[j]=0\n",
    "                count_number+=1\n",
    "            j+=1  \n",
    "        new_number_list[i]=0\n",
    "        count_number_list.append(count_number)\n",
    "    i+=1\n",
    "print('New List(unique): ',unique_number_list)\n",
    "print('Count List: ',count_number_list)"
   ]
  },
  {
   "cell_type": "code",
   "execution_count": 136,
   "id": "dfac6a96-0520-41a9-b2c4-79fc710b0837",
   "metadata": {},
   "outputs": [
    {
     "name": "stdout",
     "output_type": "stream",
     "text": [
      "----A----\n",
      "1 1 1 \n",
      "2 2 2 \n",
      "3 3 3 \n",
      "----transpose A----\n",
      "1 2 3 \n",
      "1 2 3 \n",
      "1 2 3 \n"
     ]
    }
   ],
   "source": [
    "#problem47\n",
    "A = [[1,1,1],[2,2,2],[3,3,3]]\n",
    "B = [[0,0,0],[0,0,0],[0,0,0]]\n",
    "print('----A----') \n",
    "for i in range(0,3):\n",
    "    for j in range(0,3):\n",
    "        print(A[i][j],end=' ')\n",
    "    print()\n",
    "print('----transpose A----') \n",
    "i=0\n",
    "while i<3:  \n",
    "    j=0\n",
    "    while j<3:\n",
    "        B[j][i]=A[i][j]\n",
    "        j+=1\n",
    "    i+=1\n",
    "for i in range(0,3):\n",
    "    for j in range(0,3):\n",
    "        print(B[i][j],end=' ')\n",
    "    print()"
   ]
  },
  {
   "cell_type": "code",
   "execution_count": 138,
   "id": "a258405e-4f20-4a2f-9f60-86875e8d4530",
   "metadata": {},
   "outputs": [
    {
     "name": "stdout",
     "output_type": "stream",
     "text": [
      "List:  [1, [2, 3], [4, 5, 6], 7, [8, 9, 10]]\n",
      "New List:  [1, 2, 3, 4, 5, 6, 7, 8, 9, 10]\n"
     ]
    }
   ],
   "source": [
    "#problem48\n",
    "number_list = [1, [2, 3], [4, 5, 6], 7, [8, 9, 10]]\n",
    "print('List: ',number_list)\n",
    "new_number_list = []\n",
    "for i in number_list:\n",
    "    if type(i).__name__=='list':\n",
    "        new_number_list.extend(i)\n",
    "    else:\n",
    "        new_number_list.append(i)\n",
    "print('New List: ',new_number_list)"
   ]
  },
  {
   "cell_type": "code",
   "execution_count": 140,
   "id": "36e70709-1bcb-49b2-84c4-f4f5c03d2115",
   "metadata": {},
   "outputs": [
    {
     "name": "stdout",
     "output_type": "stream",
     "text": [
      "(1, 2, 3)\n",
      "(4, 5, 6)\n",
      "(1, 2, 3, 4, 5, 6)\n"
     ]
    }
   ],
   "source": [
    "# problem49\n",
    "t1 = (1,2,3)\n",
    "print(t1)\n",
    "t2 = (4,5,6)\n",
    "print(t2)\n",
    "t3=t1+t2\n",
    "print(t3)"
   ]
  },
  {
   "cell_type": "code",
   "execution_count": 142,
   "id": "02b0c148-8a85-4064-80b5-ad1df02ce818",
   "metadata": {},
   "outputs": [
    {
     "name": "stdout",
     "output_type": "stream",
     "text": [
      "1  2  3\n"
     ]
    }
   ],
   "source": [
    "# problem50\n",
    "t1 = (1,2,3)\n",
    "x=t1[0]\n",
    "y=t1[1]\n",
    "z=t1[2]\n",
    "print(x,'',y,'',z)"
   ]
  },
  {
   "cell_type": "code",
   "execution_count": 1,
   "id": "938acc73-40e2-4eb6-92d1-9f68e203a09b",
   "metadata": {},
   "outputs": [
    {
     "name": "stdout",
     "output_type": "stream",
     "text": [
      "Tuple : (5, 2, 24, 3, 1, 6, 7)\n",
      "Sorted Tuple : (1, 2, 3, 5, 6, 7, 24)\n"
     ]
    }
   ],
   "source": [
    "#Problem51\n",
    "t1 = (5, 2, 24, 3, 1, 6, 7)  \n",
    "t2 = tuple(sorted(t1))  \n",
    "print('Tuple :', t1)  \n",
    "print('Sorted Tuple :', t2)"
   ]
  },
  {
   "cell_type": "code",
   "execution_count": 3,
   "id": "7e50eb81-b081-4e19-8257-75263f4b9e86",
   "metadata": {},
   "outputs": [
    {
     "name": "stdout",
     "output_type": "stream",
     "text": [
      "2 is 2 times\n"
     ]
    }
   ],
   "source": [
    "#Problem52\n",
    "t1 = (5, 3, 2, 3, 1, 2, 3)\n",
    "count_val = 0\n",
    "specific_val = 2\n",
    "for i in t1:\n",
    "    if i==specific_val:\n",
    "        count_val+=1\n",
    "print(specific_val,'is',count_val,'times')"
   ]
  },
  {
   "cell_type": "code",
   "execution_count": 5,
   "id": "b5520219-4636-4191-a6d6-c5b0ba416446",
   "metadata": {},
   "outputs": [
    {
     "name": "stdout",
     "output_type": "stream",
     "text": [
      "(5, 2, 24, 3, 1, 6, 7)\n",
      "<class 'tuple'>\n",
      "[5, 2, 24, 3, 1, 6, 7]\n",
      "<class 'list'>\n"
     ]
    }
   ],
   "source": [
    "#Problem53\n",
    "t1 = (5, 2, 24, 3, 1, 6, 7)  \n",
    "print(t1)\n",
    "print(type(t1))\n",
    "li=list(t1)\n",
    "print(li)\n",
    "print(type(li))"
   ]
  },
  {
   "cell_type": "code",
   "execution_count": 7,
   "id": "f45cad83-7bb0-4888-9ef8-6976dc296287",
   "metadata": {},
   "outputs": [
    {
     "name": "stdout",
     "output_type": "stream",
     "text": [
      "Tuple : (5, 2, 24, 3, 1, 6, 7)\n",
      "reversed Tuple : (7, 6, 1, 3, 24, 2, 5)\n"
     ]
    }
   ],
   "source": [
    "#Problem54\n",
    "t1 = (5, 2, 24, 3, 1, 6, 7)  \n",
    "t2 = tuple(reversed(t1))  \n",
    "print('Tuple :', t1)  \n",
    "print('reversed Tuple :', t2)"
   ]
  },
  {
   "cell_type": "code",
   "execution_count": 9,
   "id": "1cbb355c-6bc9-41d1-99ad-e703b58bb94a",
   "metadata": {},
   "outputs": [
    {
     "name": "stdout",
     "output_type": "stream",
     "text": [
      "(5, 2, 24, 3, 1, 6, 7)\n",
      "(5, 2)\n",
      "(24, 3, 1)\n",
      "(6, 7)\n"
     ]
    }
   ],
   "source": [
    "#Problem55\n",
    "t1 = (5, 2, 24, 3, 1, 6, 7)  \n",
    "print(t1)\n",
    "s1 = t1[0:2]\n",
    "s2 = t1[2:5]\n",
    "s3 = t1[-2:]\n",
    "print(s1)\n",
    "print(s2)\n",
    "print(s3)"
   ]
  },
  {
   "cell_type": "code",
   "execution_count": 11,
   "id": "abe8b3c7-8bea-48af-bab9-fd3a7f87d4f6",
   "metadata": {},
   "outputs": [
    {
     "name": "stdout",
     "output_type": "stream",
     "text": [
      "(1, 2, 3)\n",
      "(4, 5, 6)\n",
      "Addition (5, 7, 9)\n",
      "Subtraction (-3, -3, -3)\n",
      "multiplication (4, 10, 18)\n"
     ]
    }
   ],
   "source": [
    "#Problem56\n",
    "t1 = (1,2,3)\n",
    "print(t1)\n",
    "t2 = (4,5,6)\n",
    "print(t2)\n",
    "add_list = []\n",
    "sub_list = []\n",
    "mul_list = []\n",
    "for i in range(0,len(t1)):\n",
    "    add_list.append(t1[i]+t2[i])\n",
    "    sub_list.append(t1[i]-t2[i])\n",
    "    mul_list.append(t1[i]*t2[i])\n",
    "print('Addition',tuple(add_list))\n",
    "print('Subtraction',tuple(sub_list))\n",
    "print('multiplication',tuple(mul_list))\n"
   ]
  },
  {
   "cell_type": "code",
   "execution_count": 13,
   "id": "45823897-ab94-4a72-a6d0-28decfab143b",
   "metadata": {},
   "outputs": [
    {
     "name": "stdout",
     "output_type": "stream",
     "text": [
      "(5, 2, 24, 3, 1, 6, 7)\n",
      "24 is exist\n"
     ]
    },
    {
     "data": {
      "text/plain": [
       "(5, 2, 24, 3, 1, 6, 7)"
      ]
     },
     "execution_count": 13,
     "metadata": {},
     "output_type": "execute_result"
    }
   ],
   "source": [
    "#problem57\n",
    "t1 = (5, 2, 24, 3, 1, 6, 7)  \n",
    "print(t1)\n",
    "#check_val = int(input('Type any above number: '))\n",
    "check_val = 24\n",
    "is_exist = False\n",
    "for i in t1:\n",
    "    if i==check_val:\n",
    "        is_exist = True\n",
    "        break\n",
    "if is_exist:\n",
    "    print(check_val,'is exist')\n",
    "else:\n",
    "    print(check_val,'is not exist')\n",
    "(5, 2, 24, 3, 1, 6, 7)"
   ]
  },
  {
   "cell_type": "code",
   "execution_count": 15,
   "id": "eab67ca9-f776-473d-a7c3-1a321a40c524",
   "metadata": {},
   "outputs": [
    {
     "name": "stdout",
     "output_type": "stream",
     "text": [
      "(10, 20, 30)\n"
     ]
    }
   ],
   "source": [
    "#Problem58\n",
    "x=10\n",
    "y=20\n",
    "z=30\n",
    "t1 = (x,y,z)\n",
    "print(t1)"
   ]
  },
  {
   "cell_type": "code",
   "execution_count": 17,
   "id": "758e37cb-3c4b-46ea-8ccd-f8deff18f665",
   "metadata": {},
   "outputs": [
    {
     "name": "stdout",
     "output_type": "stream",
     "text": [
      "List:  [1, [2, 3], [4, 5, 6], 7, [8, 9, 10]]\n",
      "Value 1:  1\n",
      "Value 3:  3\n",
      "Value 5:  5\n",
      "Value 10:  10\n"
     ]
    }
   ],
   "source": [
    "#Problem59\n",
    "number_list = [1, [2, 3], [4, 5, 6], 7, [8, 9, 10]]\n",
    "print('List: ',number_list)\n",
    "print('Value 1: ',number_list[0])\n",
    "print('Value 3: ',number_list[1][1])\n",
    "print('Value 5: ',number_list[2][1])\n",
    "print('Value 10: ',number_list[4][2])\n"
   ]
  },
  {
   "cell_type": "code",
   "execution_count": 19,
   "id": "fc452e78-4800-40ab-a53e-9f58f76b9eae",
   "metadata": {},
   "outputs": [
    {
     "name": "stdout",
     "output_type": "stream",
     "text": [
      "List:  [1, [2, 3], [4, 5, 6], 7, [8, 9, 10]]\n",
      "New List:  [1, 2, 3, 4, 5, 6, 7, 8, 9, 10]\n",
      "List:  [1, [2, 3], [4, 5, 6], 7, [8, 9, 10]]\n",
      "New List:  [1, 2, 3, 4, 5, 6, 7, 8, 9, 10]\n"
     ]
    }
   ],
   "source": []
  },
  {
   "cell_type": "code",
   "execution_count": 21,
   "id": "d8a8bc11-dc92-43f2-8853-f48c538bb976",
   "metadata": {},
   "outputs": [
    {
     "name": "stdout",
     "output_type": "stream",
     "text": [
      "List:  [1, [2, 3], [4, 5, 6], 7, [8, 9, 10]]\n",
      "New List:  [1, 2, 3, 4, 5, 6, 7, 8, 9, 10]\n"
     ]
    }
   ],
   "source": [
    "#Problem60\n",
    "number_list = [1, [2, 3], [4, 5, 6], 7, [8, 9, 10]]\n",
    "print('List: ',number_list)\n",
    "new_number_list = []\n",
    "for i in number_list:\n",
    "    if type(i).__name__=='list':\n",
    "        new_number_list.extend(i)\n",
    "    else:\n",
    "        new_number_list.append(i)\n",
    "print('New List: ',new_number_list)"
   ]
  },
  {
   "cell_type": "code",
   "execution_count": 23,
   "id": "47a932fc-c75b-4220-b72d-5a9cfe3b3e45",
   "metadata": {},
   "outputs": [
    {
     "name": "stdout",
     "output_type": "stream",
     "text": [
      "List:  [1, [2, 3], [4, 5, 6], 7, [8, 9, 10]]\n",
      "New List:  [1, 2, 3, 4, 5, 6, 7, 8, 9, 10]\n",
      "List:  [1, [2, 3], [4, 5, 6], 7, [8, 9, 10]]\n",
      "New List:  [1, 2, 3, 4, 5, 6, 7, 8, 9, 10]\n"
     ]
    }
   ],
   "source": [
    "#Problem61\n",
    "number_list = [1, [2, 3], [4, 5, 6], 7, [8, 9, 10]]\n",
    "print('List: ',number_list)\n",
    "new_number_list = []\n",
    "for i in number_list:\n",
    "    if type(i).__name__=='list':\n",
    "        new_number_list.extend(i)\n",
    "    else:\n",
    "        new_number_list.append(i)\n",
    "print('New List: ',new_number_list)#Problem60\n",
    "number_list = [1, [2, 3], [4, 5, 6], 7, [8, 9, 10]]\n",
    "print('List: ',number_list)\n",
    "new_number_list = []\n",
    "for i in number_list:\n",
    "    if type(i).__name__=='list':\n",
    "        new_number_list.extend(i)\n",
    "    else:\n",
    "        new_number_list.append(i)\n",
    "print('New List: ',new_number_list)"
   ]
  },
  {
   "cell_type": "code",
   "execution_count": 25,
   "id": "d18e5ee7-dc69-4868-89f2-5504d555a050",
   "metadata": {},
   "outputs": [
    {
     "name": "stdout",
     "output_type": "stream",
     "text": [
      "[(1, 2), (3, 4), (5, 6), (7, 8), (9, 10)]\n",
      "list of x-coordinates:  [1, 3, 5, 7, 9]\n",
      "list of y-coordinates:  [2, 4, 6, 8, 10]\n"
     ]
    }
   ],
   "source": [
    "#Problem62\n",
    "number_list = [(1,2), (3, 4),(5,6), (7,8),(9,10)]\n",
    "print(number_list)\n",
    "x_list = []\n",
    "y_list = []\n",
    "for i in number_list:\n",
    "    x_list.append(i[0])\n",
    "    y_list.append(i[1])\n",
    "print('list of x-coordinates: ',x_list)\n",
    "print('list of y-coordinates: ',y_list)"
   ]
  },
  {
   "cell_type": "code",
   "execution_count": 27,
   "id": "32303729-6c22-4dcc-b92f-3bbb19379eaa",
   "metadata": {},
   "outputs": [
    {
     "name": "stdout",
     "output_type": "stream",
     "text": [
      "----A----\n",
      "1 1 1 \n",
      "2 2 2 \n",
      "3 3 3 \n",
      "----transpose A----\n",
      "1 2 3 \n",
      "1 2 3 \n",
      "1 2 3 \n"
     ]
    }
   ],
   "source": [
    "#Problem63\n",
    "A = [[1,1,1],[2,2,2],[3,3,3]]\n",
    "B = [[0,0,0],[0,0,0],[0,0,0]]\n",
    "print('----A----') \n",
    "for i in range(0,3):\n",
    "    for j in range(0,3):\n",
    "        print(A[i][j],end=' ')\n",
    "    print()\n",
    "print('----transpose A----') \n",
    "i=0\n",
    "while i<3:  \n",
    "    j=0\n",
    "    while j<3:\n",
    "        B[j][i]=A[i][j]\n",
    "        j+=1\n",
    "    i+=1\n",
    "for i in range(0,3):\n",
    "    for j in range(0,3):\n",
    "        print(B[i][j],end=' ')\n",
    "    print()"
   ]
  },
  {
   "cell_type": "code",
   "execution_count": 29,
   "id": "736bc62f-712f-4027-9641-53b1207821f2",
   "metadata": {},
   "outputs": [
    {
     "name": "stdout",
     "output_type": "stream",
     "text": [
      "List:  [1, [2, 3], [4, 5, 6], 7, [8, 9, 10]]\n",
      "New List:  [1, 2, 3, 4, 5, 6, 7, 8, 9, 10]\n"
     ]
    }
   ],
   "source": [
    "#Problem64\n",
    "number_list = [1, [2, 3], [4, 5, 6], 7, [8, 9, 10]]\n",
    "print('List: ',number_list)\n",
    "new_number_list = []\n",
    "for i in number_list:\n",
    "    if type(i).__name__=='list':\n",
    "        new_number_list.extend(i)\n",
    "    else:\n",
    "        new_number_list.append(i)\n",
    "print('New List: ',new_number_list)"
   ]
  },
  {
   "cell_type": "code",
   "execution_count": 31,
   "id": "c6c5578b-8ed3-4951-9e50-e15e414d5d14",
   "metadata": {},
   "outputs": [
    {
     "name": "stdout",
     "output_type": "stream",
     "text": [
      "List:  [1, [2, 3], [4, 5, 6], 7, [8, 9, 10]]\n",
      "Even count:  5\n",
      "Odd count:  5\n"
     ]
    }
   ],
   "source": [
    "#Problem65\n",
    "number_list = [1, [2, 3], [4, 5, 6], 7, [8, 9, 10]]\n",
    "print('List: ',number_list)\n",
    "even_count = 0\n",
    "odd_count = 0\n",
    "for i in number_list:\n",
    "    if type(i).__name__=='list':\n",
    "        for j in i:\n",
    "            if j%2==0:\n",
    "                even_count+=1\n",
    "            else:\n",
    "                odd_count+=1\n",
    "    else:\n",
    "        if i%2==0:\n",
    "                even_count+=1\n",
    "        else:\n",
    "            odd_count+=1\n",
    "print('Even count: ',even_count)\n",
    "print('Odd count: ',odd_count)"
   ]
  },
  {
   "cell_type": "code",
   "execution_count": 33,
   "id": "62bb9527-8773-4206-bb6a-fe7dc5210458",
   "metadata": {},
   "outputs": [
    {
     "name": "stdout",
     "output_type": "stream",
     "text": [
      "List:  [110, [2, 330], [4, 55, 6], 77, [8, 9, 10]]\n",
      "Max Value:  330\n"
     ]
    }
   ],
   "source": [
    "#Problem66\n",
    "number_list = [110, [2, 330], [4, 55, 6], 77, [8, 9, 10]]\n",
    "print('List: ',number_list)\n",
    "max_val = 0\n",
    "for i in number_list:\n",
    "    if type(i).__name__=='list':\n",
    "        for j in i:\n",
    "            if max_val<j:\n",
    "                max_val=j\n",
    "    else:\n",
    "        if max_val<i:\n",
    "            max_val=i\n",
    "print('Max Value: ',max_val)"
   ]
  },
  {
   "cell_type": "code",
   "execution_count": 35,
   "id": "812c3fd2-5e1e-452c-b879-887e44af6e81",
   "metadata": {},
   "outputs": [
    {
     "name": "stdout",
     "output_type": "stream",
     "text": [
      "----A----\n",
      "1 1 1 \n",
      "2 2 2 \n",
      "3 3 3 \n",
      "Diagonal sum:  6\n"
     ]
    }
   ],
   "source": [
    "#Problem67\n",
    "A = [[1,1,1],[2,2,2],[3,3,3]]\n",
    "diagonal_sum=0\n",
    "print('----A----') \n",
    "for i in range(0,3):\n",
    "    for j in range(0,3):\n",
    "        print(A[i][j],end=' ')\n",
    "    print()\n",
    "for i in range(0,3):\n",
    "    for j in range(0,3):\n",
    "        if i==j:\n",
    "            diagonal_sum+=A[i][j]\n",
    "print('Diagonal sum: ',diagonal_sum) "
   ]
  },
  {
   "cell_type": "code",
   "execution_count": 39,
   "id": "6a655638-66d0-4eff-bbff-ab139336ba6f",
   "metadata": {},
   "outputs": [
    {
     "name": "stdout",
     "output_type": "stream",
     "text": [
      "List:  [1, 3, 3, 5, 7, 7, 9]\n",
      "Set:  {1, 3, 5, 7, 9}\n"
     ]
    }
   ],
   "source": [
    "#Problem68\n",
    "\n",
    "number_list = [110, [2, 330], [4, 55, 6], 77, [8, 9, 10]]\n",
    "print('List: ',number_list)\n",
    "#specific_element = int(input('Type any above number: '))\n",
    "specific_element = 55\n",
    "max_val = 0\n",
    "r=0\n",
    "row=0\n",
    "c=0\n",
    "column=0\n",
    "for i in number_list:\n",
    "    if type(i).__name__=='list':\n",
    "        c=0\n",
    "        for j in i:\n",
    "            if specific_element==j:\n",
    "                row=r\n",
    "                column=c\n",
    "                break\n",
    "            c+=1\n",
    "    else:\n",
    "        if specific_element==i:\n",
    "            row=r\n",
    "            column=c\n",
    "            break\n",
    "    r+=1\n",
    "print('Position : ',row+1,'row,',column+1,'column')"
   ]
  },
  {
   "cell_type": "code",
   "execution_count": 41,
   "id": "e9263c76-6d47-44e9-9e00-6e13df7ed0b9",
   "metadata": {},
   "outputs": [
    {
     "name": "stdout",
     "output_type": "stream",
     "text": [
      "List:  [1, 3, 3, 5, 7, 7, 9]\n",
      "Set:  {1, 3, 5, 7, 9}\n"
     ]
    }
   ],
   "source": [
    "#Problem69\n",
    "number_list = [1,3,3,5,7,7,9]\n",
    "print('List: ',number_list)\n",
    "number_set = set(number_list)\n",
    "print('Set: ',number_set)"
   ]
  },
  {
   "cell_type": "code",
   "execution_count": 43,
   "id": "5555a3c1-9450-4ffd-9659-c0e0c687f143",
   "metadata": {},
   "outputs": [
    {
     "name": "stdout",
     "output_type": "stream",
     "text": [
      "Set A:  {1, 3, 5, 7, 9}\n",
      "Set B:  {2, 3, 4, 7, 8}\n",
      "Set C:  {3, 7}\n"
     ]
    }
   ],
   "source": [
    "\n",
    "#Problem70\n",
    "A = {1,3,5,7,9}\n",
    "print('Set A: ',A)\n",
    "B = {2,3,4,7,8}\n",
    "print('Set B: ',B)\n",
    "C = A.intersection(B)\n",
    "print('Set C: ',C)"
   ]
  },
  {
   "cell_type": "code",
   "execution_count": 45,
   "id": "f3824780-856f-4201-bce5-adbc78af9ca1",
   "metadata": {},
   "outputs": [
    {
     "name": "stdout",
     "output_type": "stream",
     "text": [
      "Set A:  {1, 3, 5, 7, 9}\n",
      "Set B:  {2, 3, 4, 7, 8}\n",
      "Set C:  {1, 2, 3, 4, 5, 7, 8, 9}\n"
     ]
    }
   ],
   "source": [
    "#Problem71\n",
    "A = {1,3,5,7,9}\n",
    "print('Set A: ',A)\n",
    "B = {2,3,4,7,8}\n",
    "print('Set B: ',B)\n",
    "C = A.union(B)\n",
    "print('Set C: ',C)"
   ]
  },
  {
   "cell_type": "code",
   "execution_count": 47,
   "id": "0498d845-20cf-4f98-b6de-8887ebb7e583",
   "metadata": {},
   "outputs": [
    {
     "name": "stdout",
     "output_type": "stream",
     "text": [
      "Set A:  {1, 3, 5, 7, 9}\n",
      "Set B:  {2, 3, 4, 7, 8}\n",
      "Set C:  {1, 5, 9}\n"
     ]
    }
   ],
   "source": [
    "#Problem72\n",
    "A = {1,3,5,7,9}\n",
    "print('Set A: ',A)\n",
    "B = {2,3,4,7,8}\n",
    "print('Set B: ',B)\n",
    "C = A-B\n",
    "print('Set C: ',C)"
   ]
  },
  {
   "cell_type": "code",
   "execution_count": 49,
   "id": "f566034d-590c-4031-b4e5-168ba6060e52",
   "metadata": {},
   "outputs": [
    {
     "name": "stdout",
     "output_type": "stream",
     "text": [
      "Set A:  {1, 3, 5, 7, 9}\n",
      "Set B:  {2, 3, 4, 7, 8}\n",
      "Set C:  {1, 2, 4, 5, 8, 9}\n"
     ]
    }
   ],
   "source": [
    "#Problem73\n",
    "A = {1,3,5,7,9}\n",
    "print('Set A: ',A)\n",
    "B = {2,3,4,7,8}\n",
    "print('Set B: ',B)\n",
    "C = (A-B).union(B-A)\n",
    "print('Set C: ',C)"
   ]
  },
  {
   "cell_type": "code",
   "execution_count": 51,
   "id": "5c029101-544b-4653-be66-410036def5e6",
   "metadata": {},
   "outputs": [
    {
     "name": "stdout",
     "output_type": "stream",
     "text": [
      "Set A:  {1, 3, 5, 7, 9}\n",
      "Set B:  {2, 3, 4, 7, 8}\n",
      "Set C:  {1, 2, 6, 7, 10}\n",
      "intersection A and B:  {3, 7}\n",
      "union B and C:  {1, 2, 3, 4, 6, 7, 8, 10}\n",
      "difference C - A:  {2, 10, 6}\n"
     ]
    }
   ],
   "source": [
    "#Problem74\n",
    "A = {1,3,5,7,9}\n",
    "print('Set A: ',A)\n",
    "B = {2,3,4,7,8}\n",
    "print('Set B: ',B)\n",
    "C = {1,2,6,7,10}\n",
    "print('Set C: ',C)\n",
    "inter_sect = A.intersection(B)\n",
    "print('intersection A and B: ',inter_sect)\n",
    "union = B.union(C)\n",
    "print('union B and C: ',union)\n",
    "diff = C-A\n",
    "print('difference C - A: ',diff)"
   ]
  },
  {
   "cell_type": "code",
   "execution_count": 53,
   "id": "c2de02ce-b581-40cb-abfb-92b8d0c80645",
   "metadata": {},
   "outputs": [
    {
     "name": "stdout",
     "output_type": "stream",
     "text": [
      "Set A:  {1, 3, 5, 7, 9}\n",
      "Set B:  {3, 7}\n",
      "A subset of B:  False\n"
     ]
    }
   ],
   "source": [
    "#Problem75\n",
    "A = {1,3,5,7,9}\n",
    "print('Set A: ',A)\n",
    "B = {3,7}\n",
    "print('Set B: ',B)\n",
    "print('A subset of B: ',A.issubset(B))"
   ]
  },
  {
   "cell_type": "code",
   "execution_count": 55,
   "id": "2058a08c-5ea5-4c95-9dcc-4b4b46bdf9e4",
   "metadata": {},
   "outputs": [
    {
     "name": "stdout",
     "output_type": "stream",
     "text": [
      "Set A:  {1, 3, 5, 7, 9}\n",
      "Set B:  {3, 7}\n",
      "A superset of B:  True\n"
     ]
    }
   ],
   "source": [
    "#Problem76\n",
    "A = {1,3,5,7,9}\n",
    "print('Set A: ',A)\n",
    "B = {3,7}\n",
    "print('Set B: ',B)\n",
    "print('A superset of B: ',B.issubset(A))\n"
   ]
  },
  {
   "cell_type": "code",
   "execution_count": 57,
   "id": "1b0fcbf4-476e-4ec8-9d7a-4972e5ae2a24",
   "metadata": {},
   "outputs": [
    {
     "name": "stdout",
     "output_type": "stream",
     "text": [
      "Set A:  {1, 3, 5, 7, 9}\n",
      "Element of Set A:  5\n"
     ]
    }
   ],
   "source": [
    "#Problem77\n",
    "A = {1,3,5,7,9}\n",
    "print('Set A: ',A)\n",
    "print('Element of Set A: ',len(A))"
   ]
  },
  {
   "cell_type": "code",
   "execution_count": 59,
   "id": "d8ef7b13-41da-4d3a-9e75-bd06653c14fc",
   "metadata": {},
   "outputs": [
    {
     "name": "stdout",
     "output_type": "stream",
     "text": [
      "Set A:  {1, 3, 5, 7, 9}\n",
      "5 Found\n"
     ]
    }
   ],
   "source": [
    "#Problem78\n",
    "A = {1,3,5,7,9}\n",
    "print('Set A: ',A)\n",
    "check_val = 5\n",
    "is_exist = False\n",
    "for i in A:\n",
    "    if i==check_val:\n",
    "        is_exist = True\n",
    "if is_exist:\n",
    "    print(check_val,'Found')\n",
    "else:\n",
    "    print(check_val,'Not Found')"
   ]
  },
  {
   "cell_type": "code",
   "execution_count": 61,
   "id": "e0873f39-ea36-4603-95d7-df4f6e607abc",
   "metadata": {},
   "outputs": [
    {
     "name": "stdout",
     "output_type": "stream",
     "text": [
      "{'Abrar': 75, 'Fahad': 85, 'Hasan': 55, 'jahed': 69}\n",
      "{'Abrar': 75, 'Fahad': 85, 'Hasan': 55, 'jahed': 69, 'Ahad': 72}\n",
      "{'Abrar': 75, 'Fahad': 85, 'Hasan': 55, 'jahed': 69, 'Ahad': 72, 'Noman': 49}\n",
      "{'Abrar': 75, 'Fahad': 80, 'Hasan': 55, 'jahed': 69, 'Ahad': 72, 'Noman': 49}\n",
      "{'Abrar': 75, 'Fahad': 80, 'Hasan': 78, 'jahed': 69, 'Ahad': 72, 'Noman': 49}\n"
     ]
    }
   ],
   "source": [
    "#Problem79\n",
    "std_dic = {'Abrar':75,'Fahad':85,'Hasan':55,'jahed':69}\n",
    "print(std_dic)\n",
    "#add\n",
    "std_dic['Ahad']=72\n",
    "print(std_dic)\n",
    "std_dic.update({'Noman':49})\n",
    "print(std_dic)\n",
    "#update\n",
    "std_dic['Fahad']=80\n",
    "print(std_dic)\n",
    "std_dic.update({'Hasan':78})\n",
    "print(std_dic)"
   ]
  },
  {
   "cell_type": "code",
   "execution_count": 63,
   "id": "399acd4c-0975-49ca-8602-761cf62d12dd",
   "metadata": {},
   "outputs": [
    {
     "name": "stdout",
     "output_type": "stream",
     "text": [
      "Keys:  Abir,Sakib,Fahad,\n",
      "Values:  Manager,Player,Student,"
     ]
    }
   ],
   "source": [
    "#Problem80\n",
    "emp_dic = {}\n",
    "emp_list =['Abir','Manager','Sakib','Player','Fahad','Student']\n",
    "#while True:\n",
    "#    go = int(input('Want to entry(1/0): '))\n",
    "#    if go:\n",
    "#        key = input('Type name: ')\n",
    "#        val = input('Type designation: ')\n",
    "#        emp_dic[key]=val\n",
    "#    else:\n",
    "#        break\n",
    "\n",
    "i=0     \n",
    "while i<len(emp_list):\n",
    "    key = emp_list[i]\n",
    "    i = i + 1\n",
    "    val = emp_list[i]\n",
    "    i = i + 1\n",
    "    emp_dic[key]=val\n",
    "\n",
    "\n",
    "\n",
    "print('Keys: ',end=' ')\n",
    "for key in emp_dic:\n",
    "    print(key,end=',')\n",
    "\n",
    "print()\n",
    "print('Values: ',end=' ')\n",
    "for key in emp_dic:\n",
    "    print(emp_dic[key],end=',')"
   ]
  },
  {
   "cell_type": "code",
   "execution_count": 65,
   "id": "15a6531c-484b-4503-886e-a35bc8622b83",
   "metadata": {},
   "outputs": [
    {
     "name": "stdout",
     "output_type": "stream",
     "text": [
      "{'Abrar': 75, 'Fahad': 85, 'Hasan': 55, 'jahed': 69}\n",
      "Number of keyvalue pairs:  4\n"
     ]
    }
   ],
   "source": [
    "#Problem81\n",
    "std_dic = {'Abrar':75,'Fahad':85,'Hasan':55,'jahed':69}\n",
    "print(std_dic)\n",
    "print('Number of keyvalue pairs: ',len(std_dic))"
   ]
  },
  {
   "cell_type": "code",
   "execution_count": 67,
   "id": "54acb01f-4a07-47b4-88c2-fa6ce3b7ae55",
   "metadata": {},
   "outputs": [
    {
     "name": "stdout",
     "output_type": "stream",
     "text": [
      "{'Chocolate': 120, 'Ice-Creame': 65, 'Juice': 80, 'Pasta': 150}\n",
      "Search Item:  Ice-Creame\n"
     ]
    }
   ],
   "source": [
    "#Problem82\n",
    "item_dic = {'Chocolate':120,'Ice-Creame': 65,'Juice':80,'Pasta':150}\n",
    "print(item_dic)\n",
    "for item in item_dic:\n",
    "    if item_dic[item]==65:       \n",
    "        print('Search Item: ',item)\n",
    "        break"
   ]
  },
  {
   "cell_type": "code",
   "execution_count": 69,
   "id": "332d9cd1-632e-4421-ba5b-091e23e47c83",
   "metadata": {},
   "outputs": [
    {
     "name": "stdout",
     "output_type": "stream",
     "text": [
      "{'Chocolate': 120, 'Ice-Creame': 65}\n",
      "{'Juice': 80, 'Pasta': 150}\n",
      "{'Chocolate': 120, 'Ice-Creame': 65, 'Juice': 80, 'Pasta': 150}\n"
     ]
    }
   ],
   "source": [
    "#Problem83\n",
    "item_dic_1 = {'Chocolate':120,'Ice-Creame': 65}\n",
    "print(item_dic_1)\n",
    "item_dic_2 = {'Juice':80,'Pasta':150}\n",
    "print(item_dic_2)\n",
    "#item_dic_1.update(item_dic_2)\n",
    "item_dic_1 = item_dic_1 | item_dic_2\n",
    "print(item_dic_1)"
   ]
  },
  {
   "cell_type": "code",
   "execution_count": 71,
   "id": "49e8b65a-4b44-4f2e-895f-3adf8ced9655",
   "metadata": {},
   "outputs": [
    {
     "name": "stdout",
     "output_type": "stream",
     "text": [
      "{'Chocolate': 120, 'Ice-Creame': 65, 'Juice': 80, 'Pasta': 150}\n",
      "{'Chocolate': 120, 'Ice-Creame': 65, 'Pasta': 150}\n"
     ]
    }
   ],
   "source": [
    "#Problem84\n",
    "item_dic = {'Chocolate':120,'Ice-Creame': 65,'Juice':80,'Pasta':150}\n",
    "print(item_dic)\n",
    "#del item_dic['Juice']\n",
    "item_dic.pop('Juice')\n",
    "print(item_dic)"
   ]
  },
  {
   "cell_type": "code",
   "execution_count": 73,
   "id": "8c5db000-93e2-430e-b697-b1e91f7783cc",
   "metadata": {},
   "outputs": [
    {
     "name": "stdout",
     "output_type": "stream",
     "text": [
      "{'Omar': 25, 'Amir': 45, 'Sakib': 38, 'Riyad': 30}\n",
      "{'Omar': 25, 'Riyad': 30, 'Sakib': 38, 'Amir': 45}\n"
     ]
    }
   ],
   "source": [
    "#Problem85\n",
    "cust_dic = {'Omar':25,'Amir':45,'Sakib':38,'Riyad':30}\n",
    "print(cust_dic)\n",
    "ages = list(cust_dic.values())\n",
    "ages.sort()\n",
    "cust_dic_sorted = {}\n",
    "for i in ages:\n",
    "    for key, val in cust_dic.items():\n",
    "        if val ==i:\n",
    "            cust_dic_sorted[key]=i\n",
    "            break\n",
    "print(cust_dic_sorted)"
   ]
  },
  {
   "cell_type": "code",
   "execution_count": 75,
   "id": "d46a73b8-9762-4267-9bcb-5bf46dbaa315",
   "metadata": {},
   "outputs": [
    {
     "name": "stdout",
     "output_type": "stream",
     "text": [
      "{'s': 2, 'h': 4, 'i': 2, 'a': 2, 'b': 1, 'd': 1}\n"
     ]
    }
   ],
   "source": [
    "#Problem86\n",
    "#str_inp = input('Type string: ')\n",
    "str_inp = 'shihabshahid'\n",
    "str_list = list(str_inp)\n",
    "count_val = len(str_list)\n",
    "char_count_dic = {}\n",
    "i=0\n",
    "while i<count_val:\n",
    "    j=i+1\n",
    "    count_number = 1\n",
    "    if str_list[i]!=0:\n",
    "        while j<count_val:   \n",
    "            if str_list[i]==str_list[j]:\n",
    "                str_list[j]=0\n",
    "                count_number+=1\n",
    "            j+=1 \n",
    "        char_count_dic[str_list[i]]=count_number\n",
    "        str_list[i]=0\n",
    "    i+=1\n",
    "print(char_count_dic)"
   ]
  },
  {
   "cell_type": "code",
   "execution_count": 77,
   "id": "6bfa1270-edca-4794-91e0-6cb32e6769ac",
   "metadata": {},
   "outputs": [
    {
     "name": "stdout",
     "output_type": "stream",
     "text": [
      "[1, 2, 3, 4, 5]\n",
      "{1: 1, 2: 4, 3: 9, 4: 16, 5: 25}\n"
     ]
    }
   ],
   "source": [
    "#Problem87\n",
    "number_list = [1,2,3,4,5]\n",
    "print(number_list)\n",
    "number_sqr_dic = {i: i*i for i in number_list}\n",
    "print(number_sqr_dic)"
   ]
  },
  {
   "cell_type": "code",
   "execution_count": 79,
   "id": "e1e1e6ca-ba83-4a01-b585-916da90bebb9",
   "metadata": {},
   "outputs": [
    {
     "name": "stdout",
     "output_type": "stream",
     "text": [
      "Key Found\n"
     ]
    }
   ],
   "source": [
    "#Problem88\n",
    "cust_dic = {1:'Amir',2:'Sakib',3:'Kamal',4:'Riyad'}\n",
    "#heck_key = int(input('Type key: '))\n",
    "check_key = 3\n",
    "is_exist = False\n",
    "for key in cust_dic:\n",
    "    if check_key==key:\n",
    "        is_exist = True\n",
    "if is_exist:\n",
    "    print('Key Found')\n",
    "else:\n",
    "    print('Key not Found')"
   ]
  },
  {
   "cell_type": "code",
   "execution_count": 81,
   "id": "f7b1bcff-8af5-45df-b40e-37b8fab5ed62",
   "metadata": {},
   "outputs": [
    {
     "name": "stdout",
     "output_type": "stream",
     "text": [
      "student1\n",
      "----------\n",
      "name  :  Abir\n",
      "age  :  20\n",
      "address  :  city\n",
      "==========\n",
      "student2\n",
      "----------\n",
      "name  :  Fahad\n",
      "age  :  25\n",
      "address  :  dhk\n",
      "==========\n",
      "student3\n",
      "----------\n",
      "name  :  Hasan\n",
      "age  :  22\n",
      "address  :  ctg\n",
      "==========\n"
     ]
    }
   ],
   "source": [
    "#Problem89\n",
    "std_dic = {\n",
    "    'student1': {\n",
    "        'name': 'Abir',\n",
    "        'age': 20,\n",
    "        'address': 'city'\n",
    "    },\n",
    "    'student2': {\n",
    "        'name': 'Fahad',\n",
    "        'age': 25,\n",
    "        'address': 'dhk'\n",
    "    },\n",
    "    'student3': {\n",
    "        'name': 'Hasan',\n",
    "        'age': 22,\n",
    "        'address': 'ctg'\n",
    "    }\n",
    "    \n",
    "}\n",
    "#print(std_dic)\n",
    "\n",
    "#for i in std_dic:\n",
    "#    print(i)\n",
    "    \n",
    "#for key, val in std_dic.items():\n",
    "#    print(key,' ',val)\n",
    "    \n",
    "#for key, val in std_dic.items():\n",
    "#    print(key)\n",
    "#    for key, val in val.items():\n",
    "#        print(key,' ',val)\n",
    " \n",
    "    \n",
    "for key, val in std_dic.items():\n",
    "    print(key)\n",
    "    print('----------')\n",
    "    for key, val in val.items():\n",
    "        print(key,' : ',val)\n",
    "    print('==========')   \n",
    "        "
   ]
  },
  {
   "cell_type": "code",
   "execution_count": 84,
   "id": "7a1e1ca9-c3d0-4d8a-87eb-8f5e35272fae",
   "metadata": {},
   "outputs": [
    {
     "name": "stdout",
     "output_type": "stream",
     "text": [
      "Total:  3\n",
      "Sub Total:  3\n",
      "Sub Total:  3\n",
      "Sub Total:  3\n"
     ]
    }
   ],
   "source": [
    "#Problem90\n",
    "std_dic = {\n",
    "    'student1': {\n",
    "        'name': 'Abir',\n",
    "        'age': 20,\n",
    "        'address': 'city'\n",
    "    },\n",
    "    'student2': {\n",
    "        'name': 'Fahad',\n",
    "        'age': 25,\n",
    "        'address': 'dhk'\n",
    "    },\n",
    "    'student3': {\n",
    "        'name': 'Hasan',\n",
    "        'age': 22,\n",
    "        'address': 'ctg'\n",
    "    }\n",
    "    \n",
    "}\n",
    "print('Total: ',len(std_dic))\n",
    "\n",
    "for key,value in std_dic.items():\n",
    "    print('Sub Total: ',len(value))"
   ]
  },
  {
   "cell_type": "code",
   "execution_count": 86,
   "id": "95dc5135-e3b5-4a21-8fdc-f65d6e96b177",
   "metadata": {},
   "outputs": [
    {
     "name": "stdout",
     "output_type": "stream",
     "text": [
      "person1\n",
      "----------\n",
      "id  :  1\n",
      "name  :  Abir\n",
      "designation  :  manager\n",
      "salary  :  30000\n",
      "==========\n",
      "person2\n",
      "----------\n",
      "id  :  2\n",
      "name  :  Fahad\n",
      "designation  :  exicutive\n",
      "salary  :  20000\n",
      "==========\n",
      "person3\n",
      "----------\n",
      "id  :  3\n",
      "name  :  Hasan\n",
      "designation  :  sr. exicutive\n",
      "salary  :  25000\n",
      "==========\n",
      "----------id 2: salary updated------------\n",
      "person1\n",
      "----------\n",
      "id  :  1\n",
      "name  :  Abir\n",
      "designation  :  manager\n",
      "salary  :  30000\n",
      "==========\n",
      "person2\n",
      "----------\n",
      "id  :  2\n",
      "name  :  Fahad\n",
      "designation  :  exicutive\n",
      "salary  :  22000.0\n",
      "==========\n",
      "person3\n",
      "----------\n",
      "id  :  3\n",
      "name  :  Hasan\n",
      "designation  :  sr. exicutive\n",
      "salary  :  27500.0\n",
      "==========\n"
     ]
    }
   ],
   "source": [
    "#Problem91\n",
    "emp_dic = {\n",
    "    'person1': {\n",
    "        'id':1,\n",
    "        'name': 'Abir',\n",
    "        'designation': 'manager',\n",
    "        'salary': 30000\n",
    "    },\n",
    "    'person2': {\n",
    "        'id':2,\n",
    "        'name': 'Fahad',\n",
    "        'designation': 'exicutive',\n",
    "        'salary': 20000\n",
    "    },\n",
    "    'person3': {\n",
    "        'id':3,\n",
    "        'name': 'Hasan',\n",
    "        'designation': 'sr. exicutive',\n",
    "        'salary': 25000\n",
    "    } \n",
    "}\n",
    "\n",
    "for key, val in emp_dic.items():\n",
    "    print(key)\n",
    "    print('----------')\n",
    "    for key, val in val.items():\n",
    "        print(key,' : ',val)\n",
    "    print('==========')\n",
    "id = 0\n",
    "for key, val in emp_dic.items():\n",
    "    k=key\n",
    "    for key, val in val.items():\n",
    "        if val==2:\n",
    "            id=val\n",
    "        if id==2 and key=='salary':\n",
    "            emp_dic[k][key] = val+val*.1 \n",
    "print('----------id 2: salary updated------------')\n",
    "for key, val in emp_dic.items():\n",
    "    print(key)\n",
    "    print('----------')\n",
    "    for key, val in val.items():\n",
    "        print(key,' : ',val)\n",
    "    print('==========')"
   ]
  },
  {
   "cell_type": "code",
   "execution_count": 88,
   "id": "c93e048d-eb76-49ce-806d-6e0d2cb76617",
   "metadata": {},
   "outputs": [
    {
     "name": "stdout",
     "output_type": "stream",
     "text": [
      "-----original------\n",
      "{'product1': {'name': 'Cake', 'price': 250, 'quantity': 100}, 'product2': {'name': 'Ice Cream', 'price': 150, 'quantity': 200}, 'product3': {'name': 'Cheps', 'price': 50, 'quantity': 50}, 'product4': {'name': 'Juice', 'price': 120, 'quantity': 60}}\n",
      "-----sorted base price------\n",
      "{'product3': {'name': 'Cheps', 'price': 50, 'quantity': 50}, 'product4': {'name': 'Juice', 'price': 120, 'quantity': 60}, 'product2': {'name': 'Ice Cream', 'price': 150, 'quantity': 200}, 'product1': {'name': 'Cake', 'price': 250, 'quantity': 100}}\n"
     ]
    }
   ],
   "source": [
    "#Problem92\n",
    "product_dic = {\n",
    "    'product1': {\n",
    "        'name': 'Cake',\n",
    "        'price': 250,\n",
    "        'quantity': 100\n",
    "    },\n",
    "    'product2': {\n",
    "        'name': 'Ice Cream',\n",
    "        'price': 150,\n",
    "        'quantity': 200\n",
    "    },\n",
    "    'product3': {\n",
    "        'name': 'Cheps',\n",
    "        'price': 50,\n",
    "        'quantity': 50\n",
    "    },\n",
    "    'product4': {\n",
    "        'name': 'Juice',\n",
    "        'price': 120,\n",
    "        'quantity': 60\n",
    "    },\n",
    "}\n",
    "print('-----original------')\n",
    "print(product_dic)\n",
    "#for key, val in product_dic.items():\n",
    "#    print(key)\n",
    "#    print('----------')\n",
    "#    for key, val in val.items():\n",
    "#       print(key,' : ',val)\n",
    "#   print('==========')\n",
    "\n",
    "sorted_dict = dict(sorted(product_dic.items(), key=lambda x: x[1]['price']))\n",
    "\n",
    "print('-----sorted base price------')\n",
    "print(sorted_dict)\n",
    "#for key, val in sorted_dict.items():\n",
    "#    print(key)\n",
    "#    print('----------')\n",
    "#    for key, val in val.items():\n",
    "#        print(key,' : ',val)\n",
    "#    print('==========')\n"
   ]
  },
  {
   "cell_type": "code",
   "execution_count": 90,
   "id": "b258bd1f-1ff8-4768-ae1d-c2e50fa69623",
   "metadata": {},
   "outputs": [
    {
     "name": "stdout",
     "output_type": "stream",
     "text": [
      "person1\n",
      "----------\n",
      "id  :  1\n",
      "name  :  Abir\n",
      "designation  :  manager\n",
      "salary  :  30000\n",
      "==========\n",
      "person2\n",
      "----------\n",
      "id  :  2\n",
      "name  :  Fahad\n",
      "designation  :  exicutive\n",
      "salary  :  20000\n",
      "==========\n",
      "person3\n",
      "----------\n",
      "id  :  3\n",
      "name  :  Hasan\n",
      "designation  :  sr. exicutive\n",
      "salary  :  25000\n",
      "==========\n",
      "----------Show salary search by id:  ------------\n",
      "id:  3 , Salary:  25000\n"
     ]
    }
   ],
   "source": [
    "#Problem93\n",
    "emp_dic = {\n",
    "    'person1': {\n",
    "        'id':1,\n",
    "        'name': 'Abir',\n",
    "        'designation': 'manager',\n",
    "        'salary': 30000\n",
    "    },\n",
    "    'person2': {\n",
    "        'id':2,\n",
    "        'name': 'Fahad',\n",
    "        'designation': 'exicutive',\n",
    "        'salary': 20000\n",
    "    },\n",
    "    'person3': {\n",
    "        'id':3,\n",
    "        'name': 'Hasan',\n",
    "        'designation': 'sr. exicutive',\n",
    "        'salary': 25000\n",
    "    } \n",
    "}\n",
    "\n",
    "for key, val in emp_dic.items():\n",
    "    print(key)\n",
    "    print('----------')\n",
    "    for key, val in val.items():\n",
    "        print(key,' : ',val)\n",
    "    print('==========')\n",
    "print('----------Show salary search by id:  ------------')\n",
    "#search_id = int(input('Type id: '))\n",
    "search_id = 3\n",
    "id = 0\n",
    "is_exist = False\n",
    "for key, val in emp_dic.items():\n",
    "    k=key\n",
    "    for key, val in val.items():\n",
    "        if val==search_id:\n",
    "            id=val\n",
    "            is_exist = True\n",
    "        if id==search_id and key=='salary' and is_exist:\n",
    "            is_exist = False\n",
    "            print('id: ',id,', Salary: ',val)\n",
    "            break\n",
    "if id==0:\n",
    "    print('Not found')"
   ]
  },
  {
   "cell_type": "code",
   "execution_count": 92,
   "id": "d3460522-94ba-49dd-83c2-8a3802085dab",
   "metadata": {},
   "outputs": [
    {
     "name": "stdout",
     "output_type": "stream",
     "text": [
      "13  is prime number\n"
     ]
    }
   ],
   "source": [
    "#Problem95\n",
    "#number = int(input('Type number: '))\n",
    "number = 13\n",
    "is_prime = True\n",
    "for i in range(2,number):\n",
    "    if number%i==0 and number!=2:\n",
    "        is_prime = False\n",
    "        break\n",
    "if is_prime:\n",
    "    print(number,' is prime number')\n",
    "else:\n",
    "    print(number,' is not prime number')"
   ]
  },
  {
   "cell_type": "code",
   "execution_count": 94,
   "id": "8ff46525-7d00-4d5d-b580-c9af948f0296",
   "metadata": {},
   "outputs": [
    {
     "name": "stdout",
     "output_type": "stream",
     "text": [
      "2 4 6 8 10 12 14 16 18 20 "
     ]
    }
   ],
   "source": [
    "\n",
    "#Problem96\n",
    "for i in range(1,21):\n",
    "    if i%2!=0:\n",
    "        continue\n",
    "    print(i,end=' ')"
   ]
  },
  {
   "cell_type": "code",
   "execution_count": 96,
   "id": "957ce6a5-37c4-4cae-92f2-8d860a682e9a",
   "metadata": {},
   "outputs": [
    {
     "name": "stdout",
     "output_type": "stream",
     "text": [
      "Password accepted\n"
     ]
    }
   ],
   "source": [
    "#Problem97\n",
    "def is_eight_char(cl):\n",
    "    if len(cl)>=8:\n",
    "        return True\n",
    "    return False\n",
    "def is_upper_case(cl):\n",
    "    for i in cl:\n",
    "        if ord(i)>=65 and ord(i)<=89:\n",
    "            return True\n",
    "    return False\n",
    "def is_lower_case(cl):\n",
    "    for i in cl:\n",
    "        if ord(i)>=97 and ord(i)<=122:\n",
    "            return True\n",
    "    return False\n",
    "def is_number(cl):\n",
    "    for i in cl:\n",
    "        if ord(i)>=48 and ord(i)<=57:\n",
    "            return True\n",
    "    return False\n",
    "\n",
    "#password = input('Type password: ')\n",
    "password = 'Abcd@1234'\n",
    "char_list = list(password)\n",
    "if is_eight_char(char_list) and is_upper_case(char_list) and is_lower_case(char_list) and is_number(char_list):\n",
    "    print('Password accepted')\n",
    "else:\n",
    "    print('Password not accepted')"
   ]
  },
  {
   "cell_type": "code",
   "execution_count": 98,
   "id": "42425c96-09d6-4187-9e2d-f9dd5729b849",
   "metadata": {},
   "outputs": [
    {
     "name": "stdout",
     "output_type": "stream",
     "text": [
      "3,5,6,9,10,12,15,18,20,21,24,25,27,30,33,35,36,39,40,42,45,48,50,"
     ]
    }
   ],
   "source": [
    "#Problem98\n",
    "for i in range(1,51):\n",
    "    if i%3==0 or i%5==0:\n",
    "        print(i,end=',')\n",
    "    else:\n",
    "        continue"
   ]
  },
  {
   "cell_type": "code",
   "execution_count": 100,
   "id": "9ab8e7a4-6a3e-4adb-a217-a7c06c359006",
   "metadata": {},
   "outputs": [
    {
     "name": "stdout",
     "output_type": "stream",
     "text": [
      "Sum of all positive numbers:  12\n"
     ]
    }
   ],
   "source": [
    "#Problem99\n",
    "num_list = [1,4,7,-8,3,5]\n",
    "sum = 0\n",
    "#while True:\n",
    "#    number = int(input('Type number: '))\n",
    "#    if number<0:\n",
    "#        break\n",
    "#    sum = sum + number\n",
    "for number in num_list:\n",
    "    if number<0:\n",
    "        break\n",
    "    sum = sum + number\n",
    "print('Sum of all positive numbers: ',sum)"
   ]
  },
  {
   "cell_type": "code",
   "execution_count": 102,
   "id": "f0ade921-8ca9-4c64-abb0-306e6171aeac",
   "metadata": {},
   "outputs": [
    {
     "name": "stdout",
     "output_type": "stream",
     "text": [
      "Not palindrome\n"
     ]
    }
   ],
   "source": [
    "#Problem100\n",
    "#word = input('Type word: ')\n",
    "word = 'shihab'\n",
    "char_list = list(word)\n",
    "if len(char_list)<3:\n",
    "    print('Word is less than 3 char')\n",
    "else:\n",
    "    i = 0\n",
    "    j = len(char_list)-1\n",
    "    c = len(char_list)//2\n",
    "    m = 0\n",
    "    while i<c:\n",
    "        if char_list[i]==char_list[j]:\n",
    "            m=m+1\n",
    "        i=i+1\n",
    "        j=j-1\n",
    "    if m==c:\n",
    "        print('Palindrome')\n",
    "    else:\n",
    "        print('Not palindrome')"
   ]
  },
  {
   "cell_type": "code",
   "execution_count": 67,
   "id": "fbcd405e-85a5-4073-82a6-61459a2ff3a5",
   "metadata": {},
   "outputs": [
    {
     "name": "stdout",
     "output_type": "stream",
     "text": [
      "9\n"
     ]
    }
   ],
   "source": [
    "#Problem101\n",
    "num_list = [4,8,9,6,3,2,10]\n",
    "for i in num_list:\n",
    "    if i%2!=0:\n",
    "\n",
    "        break;\n",
    "print(i)\n"
   ]
  },
  {
   "cell_type": "code",
   "execution_count": 63,
   "id": "2c186f77-0073-4568-9fbd-a6daa21b9113",
   "metadata": {},
   "outputs": [
    {
     "name": "stdout",
     "output_type": "stream",
     "text": [
      "Random:  36\n",
      "Correct number is guessed\n"
     ]
    }
   ],
   "source": [
    "\n",
    "#Problem102\n",
    "from random import *\n",
    "rand_num = randint(1, 100)\n",
    "num_list = [i for i in range(1,101)]\n",
    "print('Random: ',rand_num)\n",
    "#while True:\n",
    "#    number = int(input('Type Number: '))\n",
    "#    if rand_num==number:\n",
    "#        print('Correct number is guessed')\n",
    "#        break;\n",
    "for number in num_list:\n",
    "    if rand_num==number:\n",
    "        print('Correct number is guessed')\n",
    "        break"
   ]
  },
  {
   "cell_type": "code",
   "execution_count": 7,
   "id": "5effc1c8-7b74-4e4b-a6e2-05dc41552adc",
   "metadata": {},
   "outputs": [
    {
     "name": "stdout",
     "output_type": "stream",
     "text": [
      "Number vowel:  4\n"
     ]
    }
   ],
   "source": [
    "#Problem103\n",
    "#text = input('Type text: ')\n",
    "text = 'shihabshahid'\n",
    "char_list = list(text)\n",
    "c = 0\n",
    "for i in char_list:\n",
    "    if i=='a' or i=='e' or i=='i' or i=='o' or i=='u':\n",
    "        c = c + 1\n",
    "    else:\n",
    "        continue\n",
    "print('Number vowel: ',c)"
   ]
  },
  {
   "cell_type": "code",
   "execution_count": 9,
   "id": "a77d6a9b-1b17-4f47-a48e-a436ec2920c5",
   "metadata": {},
   "outputs": [
    {
     "name": "stdout",
     "output_type": "stream",
     "text": [
      "abcd  is contain uniqe char\n"
     ]
    }
   ],
   "source": [
    "#Problem104\n",
    "#text = input('Type text: ')\n",
    "text = 'abcd'\n",
    "char_list = list(text)\n",
    "c = 1\n",
    "is_repeat = True\n",
    "for i in char_list:\n",
    "    j = c\n",
    "    while j<len(char_list):\n",
    "        if i==char_list[j]:\n",
    "            print(i,' is contain repeated char')\n",
    "            is_repeat = False\n",
    "            break\n",
    "        j = j + 1\n",
    "    c = c + 1\n",
    "if is_repeat:\n",
    "    print(text,' is contain uniqe char')"
   ]
  },
  {
   "cell_type": "code",
   "execution_count": 11,
   "id": "8e432b38-73c5-4ae7-bca7-377f29cd8832",
   "metadata": {},
   "outputs": [
    {
     "name": "stdout",
     "output_type": "stream",
     "text": [
      "120\n"
     ]
    }
   ],
   "source": [
    "#Problem105\n",
    "def factorial(n):\n",
    "    if n<1:\n",
    "        return 1\n",
    "    else:\n",
    "        return n*factorial(n-1)\n",
    "#number = int(input('Type number: '))\n",
    "number = 5\n",
    "print(factorial(number))"
   ]
  },
  {
   "cell_type": "code",
   "execution_count": 13,
   "id": "b688da37-7935-4340-b190-ff1cfbacc912",
   "metadata": {},
   "outputs": [
    {
     "name": "stdout",
     "output_type": "stream",
     "text": [
      "Palindrome\n"
     ]
    }
   ],
   "source": [
    "#Problem106\n",
    "def is_palindrome(char_list):\n",
    "    i = 0\n",
    "    j = len(char_list)-1\n",
    "    c = len(char_list)//2\n",
    "    m = 0\n",
    "    while i<c:\n",
    "        if char_list[i]==char_list[j]:\n",
    "            m=m+1\n",
    "        i=i+1\n",
    "        j=j-1\n",
    "    if m==c:\n",
    "        return True\n",
    "    else:\n",
    "        return False  \n",
    "    \n",
    "#word = input('Type word: ')\n",
    "word = 'madam'\n",
    "char_list = list(word)\n",
    "if is_palindrome(char_list):\n",
    "    print('Palindrome')\n",
    "else:\n",
    "    print('Not palindrome')"
   ]
  },
  {
   "cell_type": "code",
   "execution_count": 15,
   "id": "5519275a-d8a4-4a0c-b5a2-51f6ddaea41e",
   "metadata": {},
   "outputs": [
    {
     "name": "stdout",
     "output_type": "stream",
     "text": [
      "Odd number\n"
     ]
    }
   ],
   "source": [
    "#Problem107\n",
    "def even_or_odd(n):\n",
    "    if n%2==0:\n",
    "        return True\n",
    "    else:\n",
    "        return False\n",
    "#number = int(input('Type number: '))\n",
    "number = 23\n",
    "if even_or_odd(number):\n",
    "    print('Even number')\n",
    "else:\n",
    "    print('Odd number')"
   ]
  },
  {
   "cell_type": "code",
   "execution_count": 17,
   "id": "d3f3168b-98bc-4d91-bb5d-898a31458f42",
   "metadata": {},
   "outputs": [
    {
     "name": "stdout",
     "output_type": "stream",
     "text": [
      "42\n"
     ]
    },
    {
     "data": {
      "text/plain": [
       "42"
      ]
     },
     "execution_count": 17,
     "metadata": {},
     "output_type": "execute_result"
    }
   ],
   "source": [
    "#Problem108\n",
    "def list_sum(num_list):\n",
    "    sum = 0\n",
    "    for i in num_list:\n",
    "        sum = sum + i\n",
    "    return sum\n",
    "num_list = [4,8,9,6,3,2,10]\n",
    "print(list_sum(num_list))\n",
    "42"
   ]
  },
  {
   "cell_type": "code",
   "execution_count": 19,
   "id": "fbbf9fd4-2f3a-46ac-9c0e-1eaa2f77e61b",
   "metadata": {},
   "outputs": [
    {
     "name": "stdout",
     "output_type": "stream",
     "text": [
      "12\n"
     ]
    }
   ],
   "source": [
    "#Problem109\n",
    "def gcd(n1,n2):\n",
    "    if(n2 == 0):\n",
    "        return n1\n",
    "    else:\n",
    "        return gcd(n2, n1 % n2)\n",
    "#num_1 = int(input('Type number 1: '))\n",
    "#num_2 = int(input('Type number 2: '))\n",
    "num_1 = 60\n",
    "num_2 = 48\n",
    "print(gcd(60,48))"
   ]
  },
  {
   "cell_type": "code",
   "execution_count": 21,
   "id": "6b8cca0d-36ff-426e-873a-e8adbf7846f9",
   "metadata": {},
   "outputs": [
    {
     "name": "stdout",
     "output_type": "stream",
     "text": [
      "1700  is not leap year\n"
     ]
    }
   ],
   "source": [
    "#Problem110\n",
    "def check_leap(year): \n",
    "    if((year % 400 == 0) or (year % 100 != 0) and (year % 4 == 0)):   \n",
    "        return True  \n",
    "    else:\n",
    "        return False \n",
    "#year = int(input('Type year: '))\n",
    "year = 1700\n",
    "if check_leap(year):\n",
    "    print(year,' is leap year')\n",
    "else:\n",
    "    print(year,' is not leap year')"
   ]
  },
  {
   "cell_type": "code",
   "execution_count": 23,
   "id": "04faa7fe-8ee0-403f-aab2-5b354f4cb461",
   "metadata": {},
   "outputs": [
    {
     "name": "stdout",
     "output_type": "stream",
     "text": [
      "15\n",
      "6\n",
      "20\n",
      "3.75\n",
      "Error\n"
     ]
    }
   ],
   "source": [
    "#Problem111\n",
    "def math_operation(a,b,c,operation):\n",
    "    def addition(a,b,c):\n",
    "        print(a+b+c)\n",
    "    def sbtraction(a,b,c):\n",
    "        print(a-b-c)\n",
    "    def multiplication(a,b,c):\n",
    "        print(a*b*c)\n",
    "    def division(a,b,c):\n",
    "        print(a/b/c)\n",
    "    def error():\n",
    "        print('Error')\n",
    "    if operation=='add':\n",
    "        addition(a,b,c)\n",
    "    elif operation=='subtract':\n",
    "        sbtraction(a,b,c)\n",
    "    elif operation=='multiply':\n",
    "        multiplication(a,b,c)\n",
    "    elif operation=='divide':\n",
    "        division(a,b,c)\n",
    "    else:\n",
    "        error()\n",
    "    \n",
    "math_operation(5,8,2,'add')\n",
    "math_operation(15,2,7,'subtract')\n",
    "math_operation(5,2,2,'multiply')\n",
    "math_operation(15,2,2,'divide')\n",
    "math_operation(15,2,2,'equal')"
   ]
  },
  {
   "cell_type": "code",
   "execution_count": 25,
   "id": "6c4bb342-bde5-4f8a-a3aa-9e8bbc01c1fb",
   "metadata": {},
   "outputs": [
    {
     "name": "stdout",
     "output_type": "stream",
     "text": [
      "Hello,  shihab ! How are uyou today?\n"
     ]
    }
   ],
   "source": [
    "#Problem112\n",
    "def greeting_generator(name):\n",
    "    def get_name():\n",
    "        return name\n",
    "    print('Hello, ',get_name(),'! How are uyou today?')\n",
    "greeting_generator('shihab')"
   ]
  },
  {
   "cell_type": "code",
   "execution_count": 27,
   "id": "55566373-bbc9-460d-8c2b-a8621c56615c",
   "metadata": {},
   "outputs": [
    {
     "name": "stdout",
     "output_type": "stream",
     "text": [
      "68  fahrenheit =  20.0  = celsius\n",
      "20  celsius =  68.0  = fahrenheit\n"
     ]
    }
   ],
   "source": [
    "#Problem113\n",
    "def temperature_converter(p1,p2):\n",
    "    def convert_celsius():\n",
    "        return (p1-32) * 5/9\n",
    "    def convert_fahrenheit():\n",
    "        return (p1 * 9/5) + 32\n",
    "    if p2=='c':\n",
    "        print(p1,' fahrenheit = ',convert_celsius(),' = celsius')\n",
    "    elif p2=='f':\n",
    "        print(p1,' celsius = ',convert_fahrenheit(),' = fahrenheit')\n",
    "    else:\n",
    "        print('Error')\n",
    "temperature_converter(68,'c')\n",
    "temperature_converter(20,'f')\n"
   ]
  },
  {
   "cell_type": "code",
   "execution_count": 29,
   "id": "ed42f206-05ab-4178-abb1-c650fde06904",
   "metadata": {},
   "outputs": [
    {
     "data": {
      "text/plain": [
       "120"
      ]
     },
     "execution_count": 29,
     "metadata": {},
     "output_type": "execute_result"
    }
   ],
   "source": [
    "#Problem114\n",
    "def factorial(n):\n",
    "    if n<1:\n",
    "        return 1\n",
    "    else:\n",
    "        return n*factorial(n-1)\n",
    "factorial(5)"
   ]
  },
  {
   "cell_type": "code",
   "execution_count": 31,
   "id": "dc6e0be9-c893-4029-8392-e6f34a378c8f",
   "metadata": {},
   "outputs": [
    {
     "name": "stdout",
     "output_type": "stream",
     "text": [
      "8\n"
     ]
    }
   ],
   "source": [
    "#Problem115\n",
    "def fibonacci(n):\n",
    "    if n <= 1:\n",
    "        return n;\n",
    "    return fibonacci(n - 1) + fibonacci(n - 2);\n",
    "print(fibonacci(6))"
   ]
  },
  {
   "cell_type": "code",
   "execution_count": 33,
   "id": "64088a9e-6953-467b-8367-050df8fbc565",
   "metadata": {},
   "outputs": [
    {
     "name": "stdout",
     "output_type": "stream",
     "text": [
      "15\n"
     ]
    }
   ],
   "source": [
    "#Problem116\n",
    "def sum_of_digit(n):\n",
    "    if n<1:\n",
    "        return 0;\n",
    "    return n%10+sum_of_digit(n//10);\n",
    "print(sum_of_digit(456))"
   ]
  },
  {
   "cell_type": "code",
   "execution_count": 35,
   "id": "c7587822-1141-4c5f-b535-d50f54e55a50",
   "metadata": {},
   "outputs": [
    {
     "name": "stdout",
     "output_type": "stream",
     "text": [
      "The given list is\n",
      "[2, 4, 6, 9, 12, 16, 18, 19, 20, 21, 22]\n",
      "Element searched is found at the index  3 of given list\n"
     ]
    }
   ],
   "source": [
    "#Problem117\n",
    "def binary_search(L, start, end, item):  \n",
    "    if end >= start:  \n",
    "        middle = (start + end) // 2  \n",
    "        if L[middle] == item:  \n",
    "            return middle \n",
    "        elif L[middle] > item:   \n",
    "            return binary_search(L, start, middle - 1, item)  \n",
    "        else:  \n",
    "            return binary_search(L, middle + 1, end, item)  \n",
    "    else:  \n",
    "        return -1  \n",
    "    \n",
    "my_list = [ 2, 4, 6, 9, 12, 16, 18, 19, 20, 21, 22 ]  \n",
    "element_to_search = 9  \n",
    "print(\"The given list is\")  \n",
    "print(my_list)  \n",
    "  \n",
    "index_of_element = binary_search(my_list, 0, len(my_list)-1, element_to_search)  \n",
    "  \n",
    "if index_of_element != -1:  \n",
    "    print(\"Element searched is found at the index \", str(index_of_element), \"of given list\")  \n",
    "else:  \n",
    "    print(\"Element searched is not found in the given list!\")  "
   ]
  },
  {
   "cell_type": "code",
   "execution_count": 37,
   "id": "80b522c3-64b5-41fd-bf96-bc2e46df98d6",
   "metadata": {},
   "outputs": [
    {
     "name": "stdout",
     "output_type": "stream",
     "text": [
      "25\n"
     ]
    }
   ],
   "source": [
    "#Problem118\n",
    "def power(n, p):\n",
    "    if p == 0:\n",
    "        return 1\n",
    "    return (n*power(n, p-1)) \n",
    "print(power(5, 2))"
   ]
  }
 ],
 "metadata": {
  "kernelspec": {
   "display_name": "Python 3 (ipykernel)",
   "language": "python",
   "name": "python3"
  },
  "language_info": {
   "codemirror_mode": {
    "name": "ipython",
    "version": 3
   },
   "file_extension": ".py",
   "mimetype": "text/x-python",
   "name": "python",
   "nbconvert_exporter": "python",
   "pygments_lexer": "ipython3",
   "version": "3.11.7"
  }
 },
 "nbformat": 4,
 "nbformat_minor": 5
}
