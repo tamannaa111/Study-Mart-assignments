{
 "cells": [
  {
   "cell_type": "markdown",
   "id": "b5064af9",
   "metadata": {},
   "source": [
    "# Variables \n"
   ]
  },
  {
   "cell_type": "markdown",
   "id": "a2f31f74",
   "metadata": {},
   "source": [
    "1. Write a program that swaps the values of two variables. "
   ]
  },
  {
   "cell_type": "code",
   "execution_count": 4,
   "id": "1751ec43",
   "metadata": {},
   "outputs": [
    {
     "name": "stdout",
     "output_type": "stream",
     "text": [
      "a=  20 b= 10\n"
     ]
    }
   ],
   "source": [
    "a= 10\n",
    "b= 20\n",
    "temp= a\n",
    "a= b\n",
    "b= temp\n",
    "print('a= ', a,'b=', b)"
   ]
  },
  {
   "cell_type": "markdown",
   "id": "35eb4b8e",
   "metadata": {},
   "source": [
    "2. Write a program that calculates the area of a rectangle given its length and width."
   ]
  },
  {
   "cell_type": "code",
   "execution_count": 5,
   "id": "52cbfb54",
   "metadata": {
    "scrolled": false
   },
   "outputs": [
    {
     "name": "stdout",
     "output_type": "stream",
     "text": [
      "Enter the lenth:10\n",
      "Enter the width20\n",
      "area is: 200.0\n"
     ]
    }
   ],
   "source": [
    "\n",
    "def calculate(length, width):\n",
    "    return length * width\n",
    "length = float(input(\"Enter the lenth:\"))\n",
    "width = float(input(\"Enter the width\"))\n",
    "\n",
    "area = calculate(length,width)\n",
    "print('area is:', area)"
   ]
  },
  {
   "cell_type": "code",
   "execution_count": 8,
   "id": "0e8409dc",
   "metadata": {},
   "outputs": [
    {
     "name": "stdout",
     "output_type": "stream",
     "text": [
      "Enter the lenth:10\n",
      "Enter the width20\n",
      "area is: 200.0\n"
     ]
    }
   ],
   "source": [
    "\n",
    "def calculate(length, width):\n",
    "    return area\n",
    "length = float(input(\"Enter the lenth:\"))\n",
    "width = float(input(\"Enter the width\"))\n",
    "\n",
    "area = length*width\n",
    "print('area is:', area)"
   ]
  },
  {
   "cell_type": "markdown",
   "id": "b7c3c12e",
   "metadata": {},
   "source": [
    "3. Write a program that converts temperature from Fahrenheit to Celsius. "
   ]
  },
  {
   "cell_type": "code",
   "execution_count": 14,
   "id": "dbc1ea66",
   "metadata": {},
   "outputs": [
    {
     "name": "stdout",
     "output_type": "stream",
     "text": [
      "Enter:40\n",
      "40.0° Fahrenheit is equal to 4.44° Celsius.\n"
     ]
    }
   ],
   "source": [
    "fahrenheit=float(input('Enter:'))\n",
    "\n",
    "celsius = (fahrenheit - 32) * 5 / 9\n",
    "\n",
    "print(f\"{fahrenheit}° Fahrenheit is equal to {celsius:.2f}° Celsius.\")"
   ]
  },
  {
   "cell_type": "markdown",
   "id": "d119a1fe",
   "metadata": {},
   "source": [
    "4. Write a program that calculates the volume of a sphere given its radius."
   ]
  },
  {
   "cell_type": "code",
   "execution_count": 19,
   "id": "7c105aa0",
   "metadata": {},
   "outputs": [
    {
     "name": "stdout",
     "output_type": "stream",
     "text": [
      "20\n",
      "The volume of the sphere with radius 20.0 is 33510.32 cubic units.\n"
     ]
    }
   ],
   "source": [
    "import math\n",
    "def calculate_volume(radius):\n",
    "    volume = (4/3) * math.pi * (radius ** 3)\n",
    "    return volume\n",
    "    \n",
    "radius=float(input())\n",
    "volume=calculate_volume(radius)\n",
    "print(f\"The volume of the sphere with radius {radius} is {volume:.2f} cubic units.\")"
   ]
  },
  {
   "cell_type": "markdown",
   "id": "41c0e612",
   "metadata": {},
   "source": [
    "5. Write a program that finds the average of three numbers."
   ]
  },
  {
   "cell_type": "code",
   "execution_count": 20,
   "id": "afb76998",
   "metadata": {},
   "outputs": [
    {
     "name": "stdout",
     "output_type": "stream",
     "text": [
      "3.3333333333333335\n"
     ]
    }
   ],
   "source": [
    "a=2\n",
    "b=3\n",
    "c=5\n",
    "avg=(a+b+c)/3\n",
    "print(avg)"
   ]
  },
  {
   "cell_type": "code",
   "execution_count": 21,
   "id": "53b92e61",
   "metadata": {},
   "outputs": [
    {
     "name": "stdout",
     "output_type": "stream",
     "text": [
      "2\n",
      "3\n",
      "4\n",
      "3.0\n"
     ]
    }
   ],
   "source": [
    "a=int(input())\n",
    "b=int(input())\n",
    "c=int(input())\n",
    "avg=(a+b+c)/3\n",
    "print(avg)"
   ]
  },
  {
   "cell_type": "markdown",
   "id": "0ea5c493",
   "metadata": {},
   "source": [
    "# If-elif-else "
   ]
  },
  {
   "cell_type": "markdown",
   "id": "9fdab468",
   "metadata": {},
   "source": [
    " 6. Write a program that determines if a number is even or odd. \n"
   ]
  },
  {
   "cell_type": "code",
   "execution_count": 23,
   "id": "7991b664",
   "metadata": {},
   "outputs": [
    {
     "name": "stdout",
     "output_type": "stream",
     "text": [
      "8\n",
      "a is even\n"
     ]
    }
   ],
   "source": [
    "a=int(input())\n",
    "\n",
    "if a%2==0:\n",
    "    print(\"a is even\")\n",
    "else:\n",
    "    print(\"a is odd\")"
   ]
  },
  {
   "cell_type": "markdown",
   "id": "72d234a0",
   "metadata": {},
   "source": [
    "7. Write a program that finds the maximum of three numbers. "
   ]
  },
  {
   "cell_type": "code",
   "execution_count": 28,
   "id": "900ee551",
   "metadata": {},
   "outputs": [
    {
     "name": "stdout",
     "output_type": "stream",
     "text": [
      "3\n",
      "2\n",
      "1\n",
      "a is maximum value\n"
     ]
    }
   ],
   "source": [
    "a=int(input())\n",
    "b=int(input())\n",
    "c=int(input())\n",
    "if a>b and a>c:\n",
    "    print('a is maximum value')\n",
    "elif b>a and b>c:\n",
    "    print(\"b is maximum value\")\n",
    "else:\n",
    "    print('c is maximum value')"
   ]
  },
  {
   "cell_type": "markdown",
   "id": "35a18119",
   "metadata": {},
   "source": [
    "8. Write a program that determines if a year is a leap year or not. "
   ]
  },
  {
   "cell_type": "code",
   "execution_count": 32,
   "id": "ba0f75d9",
   "metadata": {},
   "outputs": [
    {
     "name": "stdout",
     "output_type": "stream",
     "text": [
      "2024\n",
      "a is leap year\n"
     ]
    }
   ],
   "source": [
    "a= int(input())\n",
    "if a % 4 ==0 and a%100 != 0 or a%400==0:\n",
    "    print('a is leap year')\n",
    "else:\n",
    "    print('a is not leap year')"
   ]
  },
  {
   "cell_type": "markdown",
   "id": "8e342c5a",
   "metadata": {},
   "source": [
    "9. Write a program that determines if a number is positive, negative, or zero. "
   ]
  },
  {
   "cell_type": "code",
   "execution_count": 35,
   "id": "163f9190",
   "metadata": {},
   "outputs": [
    {
     "name": "stdout",
     "output_type": "stream",
     "text": [
      "0\n",
      "Number is Zero\n"
     ]
    }
   ],
   "source": [
    "a=int(input())\n",
    "if a>0:\n",
    "    print('number is positive')\n",
    "elif a<0:\n",
    "    print('number is negative')\n",
    "else:\n",
    "    print('Number is Zero')"
   ]
  },
  {
   "cell_type": "markdown",
   "id": "d1a0aebe",
   "metadata": {},
   "source": [
    "10. Write a program that calculates the grade based on a given percentage."
   ]
  },
  {
   "cell_type": "code",
   "execution_count": 40,
   "id": "cfc17426",
   "metadata": {},
   "outputs": [
    {
     "name": "stdout",
     "output_type": "stream",
     "text": [
      "101\n",
      "result is F\n"
     ]
    }
   ],
   "source": [
    "result= int(input())\n",
    "\n",
    "if result>100\n",
    "elif 100>=result>=80:\n",
    "    print('result is A+')\n",
    "elif 80>result>=70:\n",
    "    print('result is A')\n",
    "elif 60>result>=50:\n",
    "    print('result is B')\n",
    "elif 50>result>=40:\n",
    "    print('result is C')\n",
    "else:\n",
    "    print('result is F')\n",
    "    "
   ]
  },
  {
   "cell_type": "markdown",
   "id": "ecd1924b",
   "metadata": {},
   "source": [
    "# For Loop"
   ]
  },
  {
   "cell_type": "markdown",
   "id": "4634fe2d",
   "metadata": {},
   "source": [
    "11. Write a program that prints the first `n` natural numbers."
   ]
  },
  {
   "cell_type": "code",
   "execution_count": 1,
   "id": "2fda3f25",
   "metadata": {},
   "outputs": [
    {
     "name": "stdout",
     "output_type": "stream",
     "text": [
      "Enter the number : 5\n",
      "1\n",
      "2\n",
      "3\n",
      "4\n",
      "5\n"
     ]
    }
   ],
   "source": [
    "n=int(input('Enter the number : '))\n",
    "for i in range(1,n+1):\n",
    "    print(i)\n"
   ]
  },
  {
   "cell_type": "markdown",
   "id": "9fbd019e",
   "metadata": {},
   "source": [
    "12. Write a program that calculates the factorial of a number."
   ]
  },
  {
   "cell_type": "code",
   "execution_count": 3,
   "id": "b4a99037",
   "metadata": {},
   "outputs": [
    {
     "name": "stdout",
     "output_type": "stream",
     "text": [
      "Enter a number: 5\n",
      "The factorial of 5 is 120\n"
     ]
    }
   ],
   "source": [
    "def factorial(n):\n",
    "    if n == 0 or n == 1:\n",
    "        return 1\n",
    "    else:\n",
    "        return n * factorial(n - 1)\n",
    "\n",
    "\n",
    "N = int(input(\"Enter a number: \"))\n",
    "result = factorial(N)\n",
    "print(f\"The factorial of {N} is {result}\")\n"
   ]
  },
  {
   "cell_type": "markdown",
   "id": "935074b7",
   "metadata": {},
   "source": [
    "13. Write a program that generates a Fibonacci sequence of length `n`."
   ]
  },
  {
   "cell_type": "code",
   "execution_count": 5,
   "id": "77fb1d39",
   "metadata": {},
   "outputs": [
    {
     "name": "stdout",
     "output_type": "stream",
     "text": [
      "Enter the length of the Fibonacci sequence: 5\n",
      "Fibonacci sequence of length 5: [0, 1, 1, 2, 3]\n"
     ]
    }
   ],
   "source": [
    "def generate_fibonacci(n):\n",
    "    fibonacci_sequence = []\n",
    "    \n",
    "    a, b = 0, 1\n",
    "    \n",
    "    for _ in range(n):\n",
    "        fibonacci_sequence.append(a)\n",
    "        a, b = b, a + b\n",
    "    \n",
    "    return fibonacci_sequence\n",
    "\n",
    "n = int(input(\"Enter the length of the Fibonacci sequence: \"))\n",
    "fibonacci_sequence = generate_fibonacci(n)\n",
    "print(f\"Fibonacci sequence of length {n}: {fibonacci_sequence}\")\n"
   ]
  },
  {
   "cell_type": "markdown",
   "id": "d35fbecc",
   "metadata": {},
   "source": [
    "14. Write a program that checks if a given number is prime or not."
   ]
  },
  {
   "cell_type": "code",
   "execution_count": 6,
   "id": "18f7190c",
   "metadata": {},
   "outputs": [
    {
     "name": "stdout",
     "output_type": "stream",
     "text": [
      "Enter a number: 5\n",
      "5 is a prime number.\n"
     ]
    }
   ],
   "source": [
    "def is_prime(number):\n",
    "    if number <= 1:\n",
    "        return False\n",
    "    if number == 2:\n",
    "        return True  \n",
    "    if number % 2 == 0:\n",
    "        return False \n",
    "\n",
    "\n",
    "    for i in range(3, int(number ** 0.5) + 1, 2):\n",
    "        if number % i == 0:\n",
    "            return False\n",
    "    \n",
    "    return True\n",
    "\n",
    "number = int(input(\"Enter a number: \"))\n",
    "if is_prime(number):\n",
    "    print(f\"{number} is a prime number.\")\n",
    "else:\n",
    "    print(f\"{number} is not a prime number.\")\n"
   ]
  },
  {
   "cell_type": "markdown",
   "id": "6fd5f634",
   "metadata": {},
   "source": [
    "15. Write a program that prints the multiplication table of a given number."
   ]
  },
  {
   "cell_type": "code",
   "execution_count": 8,
   "id": "0aaa9b70",
   "metadata": {},
   "outputs": [
    {
     "name": "stdout",
     "output_type": "stream",
     "text": [
      "Enter a number: 5\n",
      "5 x 1 = 5\n",
      "5 x 2 = 10\n",
      "5 x 3 = 15\n",
      "5 x 4 = 20\n",
      "5 x 5 = 25\n",
      "5 x 6 = 30\n",
      "5 x 7 = 35\n",
      "5 x 8 = 40\n",
      "5 x 9 = 45\n",
      "5 x 10 = 50\n"
     ]
    }
   ],
   "source": [
    "def print_multiplication(n):\n",
    "    for i in range(1, 11):\n",
    "        print(f\"{n} x {i} = {n * i}\")\n",
    "n = int(input(\"Enter a number: \"))\n",
    "print_multiplication(n)\n"
   ]
  },
  {
   "cell_type": "markdown",
   "id": "d93ff762",
   "metadata": {},
   "source": [
    "16. Write a program that finds the sum of all even numbers between 1 and `n`."
   ]
  },
  {
   "cell_type": "code",
   "execution_count": 10,
   "id": "f46501ca",
   "metadata": {},
   "outputs": [
    {
     "name": "stdout",
     "output_type": "stream",
     "text": [
      "Enter a value for n: 5\n",
      "The sum of all even numbers between 1 and 5 is 6\n"
     ]
    }
   ],
   "source": [
    "def Sum(n):\n",
    "    m = 0\n",
    "    for i in range(2, n + 1, 2):\n",
    "        m += i\n",
    "    return m\n",
    "\n",
    "n = int(input(\"Enter a value for n: \"))\n",
    "result = Sum(n)\n",
    "print(f\"The sum of all even numbers between 1 and {n} is {result}\")\n"
   ]
  },
  {
   "cell_type": "markdown",
   "id": "5186d309",
   "metadata": {},
   "source": [
    "17. Write a program that reverses a given number."
   ]
  },
  {
   "cell_type": "code",
   "execution_count": 12,
   "id": "594bfca1",
   "metadata": {},
   "outputs": [
    {
     "name": "stdout",
     "output_type": "stream",
     "text": [
      "Enter a number: 1234532\n",
      "The reversed number is 2354321\n"
     ]
    }
   ],
   "source": [
    "def reverse(n):\n",
    "    reversed_number = 0\n",
    "    while n > 0:\n",
    "        digit = n % 10\n",
    "        reversed_number = reversed_number * 10 + digit\n",
    "        n = n // 10\n",
    "    return reversed_number\n",
    "\n",
    "n = int(input(\"Enter a number: \"))\n",
    "reversed_num = reverse(n)\n",
    "print(f\"The reversed number is {reversed_num}\")\n"
   ]
  },
  {
   "cell_type": "markdown",
   "id": "a6f5ccf5",
   "metadata": {},
   "source": [
    "18. Write a program that checks if a given string, is a palindrome."
   ]
  },
  {
   "cell_type": "code",
   "execution_count": 14,
   "id": "f3112c7e",
   "metadata": {},
   "outputs": [
    {
     "name": "stdout",
     "output_type": "stream",
     "text": [
      "Enter a string: Tamanna\n",
      "\"Tamanna\" is not a palindrome.\n"
     ]
    }
   ],
   "source": [
    "def is_palindrome(s):\n",
    "    s = s.replace(\" \", \"\").lower()\n",
    "    return s == s[::-1]\n",
    "\n",
    "s = input(\"Enter: \")\n",
    "if is_palindrome(s):\n",
    "    print(f'\"{s}\" is a palindrome.')\n",
    "else:\n",
    "    print(f'\"{s}\" is not a palindrome.')\n"
   ]
  },
  {
   "cell_type": "markdown",
   "id": "dde6d197",
   "metadata": {},
   "source": [
    "19. Write a program that generates a random number and allows the user to guess it."
   ]
  },
  {
   "cell_type": "code",
   "execution_count": 19,
   "id": "e7a87ba9",
   "metadata": {},
   "outputs": [
    {
     "name": "stdout",
     "output_type": "stream",
     "text": [
      "Guess the number between 1 and 100!\n",
      "Enter your guess: 40\n",
      "Too low! Try again.\n",
      "Enter your guess: 50\n",
      "Too low! Try again.\n",
      "Enter your guess: 70\n",
      "Too low! Try again.\n",
      "Enter your guess: 90\n",
      "Too low! Try again.\n",
      "Enter your guess: 99\n",
      "Too high! Try again.\n",
      "Enter your guess: 95\n",
      "Too low! Try again.\n",
      "Enter your guess: 98\n",
      "Congratulations! You guessed the number 98 in 7 attempts.\n"
     ]
    }
   ],
   "source": [
    "import random\n",
    "\n",
    "def guess_number():\n",
    "    number_to_guess = random.randint(1, 100)\n",
    "    attempts = 0\n",
    "\n",
    "    print(\"Guess the number between 1 and 100!\")\n",
    "\n",
    "    while True:\n",
    "        try:\n",
    "            user_guess = int(input(\"Enter your guess: \"))\n",
    "            attempts += 1\n",
    "\n",
    "            if user_guess < number_to_guess:\n",
    "                print(\"Too low! Try again.\")\n",
    "            elif user_guess > number_to_guess:\n",
    "                print(\"Too high! Try again.\")\n",
    "            else:\n",
    "                print(f\"Congratulations! You guessed the number {number_to_guess} in {attempts} attempts.\")\n",
    "                break\n",
    "        except ValueError:\n",
    "            print(\"Invalid input. Please enter an integer.\")\n",
    "\n",
    "guess_number()\n"
   ]
  },
  {
   "cell_type": "markdown",
   "id": "19221865",
   "metadata": {},
   "source": [
    "20. Write a program that finds the greatest common divisor (GCD) of two numbers."
   ]
  },
  {
   "cell_type": "code",
   "execution_count": 22,
   "id": "09202442",
   "metadata": {},
   "outputs": [
    {
     "name": "stdout",
     "output_type": "stream",
     "text": [
      "Enter the first number: 24\n",
      "Enter the second number: 2\n",
      "The greatest common divisor of 24 and 2 is 2\n"
     ]
    }
   ],
   "source": [
    "def gcd(a, b):\n",
    "    while b:\n",
    "        a, b = b, a % b\n",
    "    return a\n",
    "\n",
    "a = int(input(\"Enter the first number: \"))\n",
    "b = int(input(\"Enter the second number: \"))\n",
    "\n",
    "result = gcd(a, b)\n",
    "print(f\"The greatest common divisor of {a} and {b} is {result}\")\n"
   ]
  },
  {
   "cell_type": "code",
   "execution_count": null,
   "id": "bd5902c2",
   "metadata": {},
   "outputs": [],
   "source": []
  }
 ],
 "metadata": {
  "kernelspec": {
   "display_name": "Python 3 (ipykernel)",
   "language": "python",
   "name": "python3"
  },
  "language_info": {
   "codemirror_mode": {
    "name": "ipython",
    "version": 3
   },
   "file_extension": ".py",
   "mimetype": "text/x-python",
   "name": "python",
   "nbconvert_exporter": "python",
   "pygments_lexer": "ipython3",
   "version": "3.11.5"
  }
 },
 "nbformat": 4,
 "nbformat_minor": 5
}
